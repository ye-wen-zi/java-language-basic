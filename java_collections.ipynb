{
 "cells": [
  {
   "cell_type": "markdown",
   "id": "09b35cb4-4b1b-4c2d-9ea5-b797a00aaf1a",
   "metadata": {},
   "source": [
    "# Java Collections"
   ]
  },
  {
   "cell_type": "markdown",
   "id": "bdf9055f-bdb4-4e7e-9535-3f9be2786e2d",
   "metadata": {},
   "source": [
    "## ArrayList"
   ]
  },
  {
   "cell_type": "code",
   "execution_count": 2,
   "id": "1643a7b8-73bb-410b-b89c-e3b19287980f",
   "metadata": {},
   "outputs": [],
   "source": [
    "import java.util.ArrayList;"
   ]
  },
  {
   "cell_type": "code",
   "execution_count": 9,
   "id": "4eb279e7-c36f-42d8-a2f9-bcd2ccfb1ce6",
   "metadata": {},
   "outputs": [],
   "source": [
    "import java.util.Collection;\n",
    "import java.util.stream.IntStream;\n",
    "import java.util.Set;\n",
    "import static java.util.stream.Collectors.toSet;\n",
    "\n",
    "Collection<Integer> numbers = IntStream.range(0, 10).boxed().collect(toSet());"
   ]
  },
  {
   "cell_type": "code",
   "execution_count": 11,
   "id": "7c77e9c3-ea4b-4a2f-85b3-3f05014c8399",
   "metadata": {},
   "outputs": [],
   "source": [
    "List<Integer> list= new ArrayList<>(numbers);"
   ]
  },
  {
   "cell_type": "code",
   "execution_count": 12,
   "id": "79710e2d-f7c0-492e-8aff-f0fd1cd9bba6",
   "metadata": {},
   "outputs": [
    {
     "data": {
      "text/plain": [
       "[0, 1, 2, 3, 4, 5, 6, 7, 8, 9]"
      ]
     },
     "execution_count": 12,
     "metadata": {},
     "output_type": "execute_result"
    }
   ],
   "source": [
    "list"
   ]
  },
  {
   "cell_type": "code",
   "execution_count": 13,
   "id": "83811191-bd07-4196-a8d4-2f4ff13396b9",
   "metadata": {},
   "outputs": [
    {
     "data": {
      "text/plain": [
       "false"
      ]
     },
     "execution_count": 13,
     "metadata": {},
     "output_type": "execute_result"
    }
   ],
   "source": [
    "list.isEmpty();"
   ]
  },
  {
   "cell_type": "code",
   "execution_count": 16,
   "id": "ba3b83b8-68ec-4834-97de-991e787301db",
   "metadata": {},
   "outputs": [
    {
     "data": {
      "text/plain": [
       "10"
      ]
     },
     "execution_count": 16,
     "metadata": {},
     "output_type": "execute_result"
    }
   ],
   "source": [
    "list.size()"
   ]
  },
  {
   "cell_type": "code",
   "execution_count": 17,
   "id": "2147b9a9-79f3-45bc-a164-29102e33deca",
   "metadata": {},
   "outputs": [
    {
     "data": {
      "text/plain": [
       "[Java, Python]"
      ]
     },
     "execution_count": 17,
     "metadata": {},
     "output_type": "execute_result"
    }
   ],
   "source": [
    "List<String> list = new ArrayList<>(Arrays.asList(\"Java\", \"Python\"));\n",
    "list"
   ]
  },
  {
   "cell_type": "code",
   "execution_count": 23,
   "id": "15ba361e-5eb9-4cfc-97c0-d2253be8a212",
   "metadata": {},
   "outputs": [
    {
     "data": {
      "text/plain": [
       "[0, 1, 2, 3, 4, 5, 6, 7, 8, 9, a, b, c, d, e, f]"
      ]
     },
     "execution_count": 23,
     "metadata": {},
     "output_type": "execute_result"
    }
   ],
   "source": [
    "import static java.util.stream.Collectors.toCollection;\n",
    "import java.util.stream.LongStream;\n",
    "\n",
    "List<String> list = LongStream.range(0, 16)\n",
    "    .boxed()\n",
    "    .map(Long::toHexString)\n",
    "    .collect(toCollection(ArrayList::new));\n",
    "list"
   ]
  },
  {
   "cell_type": "code",
   "execution_count": 25,
   "id": "9e5b8191-1fa2-43b6-98a4-18baef57796d",
   "metadata": {},
   "outputs": [
    {
     "data": {
      "text/plain": [
       "15"
      ]
     },
     "execution_count": 25,
     "metadata": {},
     "output_type": "execute_result"
    }
   ],
   "source": [
    "list.indexOf(\"f\")"
   ]
  },
  {
   "cell_type": "markdown",
   "id": "7cc30d3c-5391-4636-b789-0310a0447674",
   "metadata": {},
   "source": [
    "## HashSet"
   ]
  },
  {
   "cell_type": "markdown",
   "id": "f932cf3f-a36d-4964-8cc4-e182f43aabe7",
   "metadata": {},
   "source": [
    "Có thể lặp qua HashSet bằng các cách sau:\n",
    "\n",
    "* Iterator: Cách an toàn nhất, cho phép loại bỏ phần tử trong quá trình lặp.\n",
    "* Vòng lặp for-each: Cách đơn giản và ngắn gọn khi không cần loại bỏ phần tử.\n",
    "* Stream API: Cách mạnh mẽ và linh hoạt cho các tác vụ phức tạp hơn.\n",
    "\n",
    "Hãy chọn cách phù hợp nhất với nhu cầu cụ thể của bạn. Nếu bạn cần loại bỏ phần tử trong quá trình lặp, hãy sử dụng Iterator. Nếu không, vòng lặp for-each thường là lựa chọn tốt nhất về tính dễ đọc. Stream API hữu ích cho các xử lý dữ liệu phức tạp."
   ]
  },
  {
   "cell_type": "markdown",
   "id": "af6c2fc9-162d-41cc-8d00-e871d90f57f2",
   "metadata": {},
   "source": [
    "## HashMap"
   ]
  },
  {
   "cell_type": "markdown",
   "id": "f31eceee-8193-4d1c-9c17-1733db98c706",
   "metadata": {},
   "source": [
    "* [How to Break Your HashMap in Less Than a Minute 😎😎](https://yonatankarp.com/how-to-break-your-hashmap-in-less-than-a-minute)\n",
    "* [Keys’ Immutability](https://www.baeldung.com/java-hashmap#2-keys-immutability)\n",
    "* Record"
   ]
  },
  {
   "cell_type": "code",
   "execution_count": 8,
   "id": "8d9ba284-d49b-457d-9cba-d990b5878b22",
   "metadata": {},
   "outputs": [],
   "source": [
    "public class Product {\n",
    "\n",
    "    private final String name;\n",
    "    private final String description;\n",
    "\n",
    "    public Product(String name, String description) {\n",
    "        this.name = name;\n",
    "        this.description = description;\n",
    "    }\n",
    "\n",
    "    public String getName() {\n",
    "        return name;\n",
    "    }\n",
    "\n",
    "    public String getDescriptinon() {\n",
    "        return description;\n",
    "    }\n",
    "    \n",
    "    @Override\n",
    "    public boolean equals(Object o) {\n",
    "        if (this == o) {\n",
    "            return true;\n",
    "        }\n",
    "        if (o == null || getClass() != o.getClass()) {\n",
    "            return false;\n",
    "        }\n",
    "    \n",
    "        Product product = (Product) o;\n",
    "        return Objects.equals(name, product.name) &&\n",
    "          Objects.equals(description, product.description);\n",
    "    }\n",
    "    \n",
    "    @Override\n",
    "    public int hashCode() {\n",
    "        return Objects.hash(name, description);\n",
    "    }\n",
    "}"
   ]
  },
  {
   "cell_type": "code",
   "execution_count": 10,
   "id": "d3eca77c-7f59-45eb-a840-e2634402ef8d",
   "metadata": {},
   "outputs": [],
   "source": [
    "Map<Product, Product> productMap = new HashMap<>();\n",
    "\n",
    "Product p1 = new Product(\"Book\", \"This is a book!\");\n",
    "productMap.put(p1, p1);"
   ]
  },
  {
   "cell_type": "code",
   "execution_count": 11,
   "id": "9b8b8123-260c-4651-9c61-2e0106f57412",
   "metadata": {},
   "outputs": [
    {
     "data": {
      "text/plain": [
       "true"
      ]
     },
     "execution_count": 11,
     "metadata": {},
     "output_type": "execute_result"
    }
   ],
   "source": [
    "productMap.containsKey(p1);"
   ]
  },
  {
   "cell_type": "code",
   "execution_count": 12,
   "id": "41414ade-6c87-46b5-87e8-b9b70d2f8579",
   "metadata": {},
   "outputs": [
    {
     "name": "stdout",
     "output_type": "stream",
     "text": [
      "Book"
     ]
    }
   ],
   "source": [
    "for(Map.Entry<Product, Product> entry: productMap.entrySet()) {\n",
    "    System.out.print(entry.getValue().getName());\n",
    "}"
   ]
  },
  {
   "cell_type": "code",
   "execution_count": 14,
   "id": "dd8e3086-22da-4f5f-8385-67296bfae34f",
   "metadata": {},
   "outputs": [
    {
     "name": "stdout",
     "output_type": "stream",
     "text": [
      "Book\n"
     ]
    }
   ],
   "source": [
    "productMap.forEach((k, v) -> System.out.println(v.getName()));"
   ]
  },
  {
   "cell_type": "markdown",
   "id": "b37f4995-0588-4e2e-afbb-c2f569cfa60d",
   "metadata": {},
   "source": [
    "**Some methods:** `.getOrDefault()`, `.putIfAbsent()`, `.merge()`, `.compute()`"
   ]
  },
  {
   "cell_type": "markdown",
   "id": "6f4b79ca-2076-4ebe-aee8-058f2f41a7b4",
   "metadata": {},
   "source": [
    "## Interator"
   ]
  },
  {
   "cell_type": "markdown",
   "id": "84012781-f4e0-4949-b88c-fbcc06890045",
   "metadata": {},
   "source": [
    "The Iterator interface allows us to modify a collection while traversing it, which is more difficult with a simple for/while statement. This, in turn, gives us a good pattern we can use in many methods that only requires collections processing while maintaining good cohesion and low coupling."
   ]
  },
  {
   "cell_type": "code",
   "execution_count": null,
   "id": "a8564259-dbb6-4679-9668-2c4fdaea7716",
   "metadata": {},
   "outputs": [],
   "source": []
  }
 ],
 "metadata": {
  "kernelspec": {
   "display_name": "Java",
   "language": "java",
   "name": "java"
  },
  "language_info": {
   "codemirror_mode": "java",
   "file_extension": ".jshell",
   "mimetype": "text/x-java-source",
   "name": "Java",
   "pygments_lexer": "java",
   "version": "17.0.7+8-LTS-224"
  }
 },
 "nbformat": 4,
 "nbformat_minor": 5
}
