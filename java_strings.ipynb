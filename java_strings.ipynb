{
 "cells": [
  {
   "cell_type": "markdown",
   "id": "2748bc42-daae-4f97-ab96-86fbf4aaec73",
   "metadata": {},
   "source": [
    "## Concatenating Strings in java"
   ]
  },
  {
   "cell_type": "markdown",
   "id": "d922923d-4f5f-4512-a103-f71a20761b4c",
   "metadata": {},
   "source": [
    "* Đối với các phép nối chuỗi đơn giản (ví dụ: nối một vài chuỗi cố định hoặc kết hợp với một vài biến): Toán tử `+` thường là lựa chọn đơn giản và dễ đọc nhất.\n",
    "* Đối với các phép nối chuỗi phức tạp hoặc khi thực hiện nhiều phép nối chuỗi liên tiếp (ví dụ: trong vòng lặp): `StringBuilder` là lựa chọn tốt nhất do hiệu suất vượt trội.\n",
    "* Trong môi trường đa luồng mà nhiều luồng có thể cùng sửa đổi chuỗi: `StringBuffer` là lựa chọn an toàn hơn, mặc dù có thể có chi phí hiệu suất cao hơn so với StringBuilder. Tuy nhiên, trong nhiều ứng dụng hiện đại, việc xây dựng chuỗi thường được thực hiện trong phạm vi một luồng, nên StringBuilder thường được ưu tiên hơn"
   ]
  },
  {
   "cell_type": "markdown",
   "id": "7ee5a809-3b64-4c5d-9ec0-ca78e7562d95",
   "metadata": {},
   "source": [
    "## Java String Pool"
   ]
  },
  {
   "cell_type": "markdown",
   "id": "ecce0823-b1fc-4de4-9a72-56ed38ca8a73",
   "metadata": {},
   "source": [
    "* When we create a String object using the new() operator, it always creates a new object in heap memory. On the other hand, if we create an object using String literal syntax e.g. “Baeldung”, it may return an existing object from the String pool, if it already exists. Otherwise, it will create a new String object and put in the string pool for future re-use."
   ]
  },
  {
   "cell_type": "markdown",
   "id": "af539ada-3659-4a1c-ae3f-21cfefa50381",
   "metadata": {},
   "source": [
    "## Interate Over The String Character"
   ]
  },
  {
   "cell_type": "code",
   "execution_count": 3,
   "id": "1f42d550-5e70-42ad-86c8-3ee946b24a79",
   "metadata": {},
   "outputs": [
    {
     "name": "stdout",
     "output_type": "stream",
     "text": [
      "Y e   W e n   Z i "
     ]
    }
   ],
   "source": [
    "String str = \"Ye Wen Zi\";\n",
    "for(int i = 0; i < str.length(); i++) {\n",
    "    System.out.print(str.charAt(i) + \" \");\n",
    "}"
   ]
  },
  {
   "cell_type": "code",
   "execution_count": 5,
   "id": "3f72a3f7-e138-45bc-8dbb-bf7084c5192a",
   "metadata": {},
   "outputs": [
    {
     "name": "stdout",
     "output_type": "stream",
     "text": [
      "Y e   W e n   Z i "
     ]
    }
   ],
   "source": [
    "String str = \"Ye Wen Zi\";\n",
    "for(char c: str.toCharArray()) {\n",
    "    System.out.print(c + \" \");    \n",
    "}"
   ]
  },
  {
   "cell_type": "markdown",
   "id": "66ecadc6-c166-48ca-b5fc-73881a34f3ef",
   "metadata": {},
   "source": [
    "## Comparing Strings"
   ]
  },
  {
   "cell_type": "code",
   "execution_count": 6,
   "id": "afb0692d-1abf-4fd3-8785-cf6cab6cbd35",
   "metadata": {},
   "outputs": [],
   "source": [
    "String s1 = \"Ye Wen Zi!\";\n",
    "String s2 = \"Ye Wen Zi!\";"
   ]
  },
  {
   "cell_type": "markdown",
   "id": "e146fab1-f82b-435e-b940-cbbb292ca033",
   "metadata": {},
   "source": [
    "Objects is a utility class which contains a static `equals()` method, useful in this scenario – to compare two Strings.\n",
    "\n",
    "The method returns true if two Strings are equal by first comparing them using their address i.e “==”. Consequently, if both arguments are null, it returns true and if exactly one argument is null, it returns false.\n",
    "\n",
    "Otherwise, it then simply calls the `equals()` method of the passed argument’s type’s class – which in our case is String’s class `equals()` method. This method is case sensitive because it internally calls String class’s equals() method."
   ]
  },
  {
   "cell_type": "code",
   "execution_count": 18,
   "id": "57169749-6b5f-4793-bc6c-1d5cac3600a9",
   "metadata": {},
   "outputs": [
    {
     "data": {
      "text/plain": [
       "true"
      ]
     },
     "execution_count": 18,
     "metadata": {},
     "output_type": "execute_result"
    }
   ],
   "source": [
    "Objects.equals(s1, s2);"
   ]
  },
  {
   "cell_type": "code",
   "execution_count": 20,
   "id": "274e36e6-ebbd-49fc-8553-901a1f32f8c9",
   "metadata": {},
   "outputs": [
    {
     "data": {
      "text/plain": [
       "true"
      ]
     },
     "execution_count": 20,
     "metadata": {},
     "output_type": "execute_result"
    }
   ],
   "source": [
    "Objects.equals(s1, new String(s2));"
   ]
  },
  {
   "cell_type": "code",
   "execution_count": 10,
   "id": "3ebf357d-46b0-4449-a73d-3b310ca041e2",
   "metadata": {},
   "outputs": [
    {
     "data": {
      "text/plain": [
       "true"
      ]
     },
     "execution_count": 10,
     "metadata": {},
     "output_type": "execute_result"
    }
   ],
   "source": [
    "s1.equals(s2);"
   ]
  },
  {
   "cell_type": "code",
   "execution_count": 12,
   "id": "d78bf32e-2f32-47ff-a8b3-f991319cd98c",
   "metadata": {},
   "outputs": [
    {
     "data": {
      "text/plain": [
       "true"
      ]
     },
     "execution_count": 12,
     "metadata": {},
     "output_type": "execute_result"
    }
   ],
   "source": [
    "s1.equalsIgnoreCase(s2.toUpperCase());"
   ]
  },
  {
   "cell_type": "markdown",
   "id": "4ab6c563-04ca-46a6-8f13-280756d6b4ef",
   "metadata": {},
   "source": [
    "The `compareTo()` method returns an int type value and compares two Strings character by character lexicographically based on a dictionary or natural ordering.\n",
    "\n",
    "This method returns 0 if two Strings are equal, a negative number if the first String comes before the argument, and a number greater than zero if the first String comes after the argument String."
   ]
  },
  {
   "cell_type": "code",
   "execution_count": 15,
   "id": "65ab8eef-7b38-428f-99b7-6da50972fe30",
   "metadata": {},
   "outputs": [
    {
     "data": {
      "text/plain": [
       "-1"
      ]
     },
     "execution_count": 15,
     "metadata": {},
     "output_type": "execute_result"
    }
   ],
   "source": [
    "\"abc\".compareTo(\"bc\")"
   ]
  },
  {
   "cell_type": "markdown",
   "id": "fb864ac3-5ffa-4f35-a6ba-f484722ce10e",
   "metadata": {},
   "source": [
    "`compareToIgnoreCase()`"
   ]
  },
  {
   "cell_type": "markdown",
   "id": "9c37f69c-406a-4da8-9951-2c2d02f60acf",
   "metadata": {},
   "source": [
    "## String Template"
   ]
  },
  {
   "cell_type": "markdown",
   "id": "b2ce4561-fdb8-407d-a2dc-d785fb3c8613",
   "metadata": {},
   "source": [
    "[String Template in Java](https://www.baeldung.com/java-21-string-templates)"
   ]
  },
  {
   "cell_type": "markdown",
   "id": "ad3938b7-01d0-4b82-bcb6-b3e9d902c16a",
   "metadata": {},
   "source": [
    "```java\n",
    "String interpolationOfJSONBlock(String feelsLike, String temperature, String unit) {\n",
    "    return STR\n",
    "      . \"\"\"\n",
    "      {\n",
    "        \"feelsLike\": \"\\{ feelsLike }\",\n",
    "        \"temperature\": \"\\{ temperature }\",\n",
    "        \"unit\": \"\\{ unit }\"\n",
    "      }\n",
    "      \"\"\" ;\n",
    "}\n",
    "```"
   ]
  },
  {
   "cell_type": "markdown",
   "id": "6ab9a3d3-c93c-4974-9900-0d43a1b478ab",
   "metadata": {},
   "source": [
    "## Multi-line String"
   ]
  },
  {
   "cell_type": "code",
   "execution_count": 43,
   "id": "61527c83-6ca0-4440-9af9-bd79818e61c0",
   "metadata": {},
   "outputs": [
    {
     "data": {
      "text/plain": [
       "Hello\n",
       "My name is Ye Wen Zi"
      ]
     },
     "execution_count": 43,
     "metadata": {},
     "output_type": "execute_result"
    }
   ],
   "source": [
    "\"\"\"\n",
    "Hello\n",
    "My name \\\n",
    "is %s\"\"\".formatted(\"Ye Wen Zi\");"
   ]
  },
  {
   "cell_type": "markdown",
   "id": "29ad8f92-aad5-4890-8477-65f01756871d",
   "metadata": {},
   "source": [
    "##  Blank and Empty String"
   ]
  },
  {
   "cell_type": "markdown",
   "id": "65e3390e-9611-4503-b8a1-7d44b18062e6",
   "metadata": {},
   "source": [
    "**Note**: Remember to check null first"
   ]
  },
  {
   "cell_type": "markdown",
   "id": "20105ade-d57f-419d-87b3-84bb56c12cc8",
   "metadata": {},
   "source": [
    "`isBlank()` returns true for whitespace characters, like some escape sequences. On the other hand, `isEmpty()` only returns true when the String doesn’t contain any character."
   ]
  },
  {
   "cell_type": "code",
   "execution_count": 44,
   "id": "7e5fedf7-5b0d-4b35-b040-73ee44fca36d",
   "metadata": {},
   "outputs": [
    {
     "data": {
      "text/plain": [
       "true"
      ]
     },
     "execution_count": 44,
     "metadata": {},
     "output_type": "execute_result"
    }
   ],
   "source": [
    "\"\".isEmpty();"
   ]
  },
  {
   "cell_type": "code",
   "execution_count": 46,
   "id": "9eeda9b7-e1ed-4bb6-8138-81881fa23bdf",
   "metadata": {},
   "outputs": [
    {
     "data": {
      "text/plain": [
       "false"
      ]
     },
     "execution_count": 46,
     "metadata": {},
     "output_type": "execute_result"
    }
   ],
   "source": [
    "\" \".isEmpty();"
   ]
  },
  {
   "cell_type": "code",
   "execution_count": 47,
   "id": "ca704ec2-64c0-46db-98cc-84970b1ae8de",
   "metadata": {},
   "outputs": [
    {
     "data": {
      "text/plain": [
       "true"
      ]
     },
     "execution_count": 47,
     "metadata": {},
     "output_type": "execute_result"
    }
   ],
   "source": [
    "\"\".isBlank();"
   ]
  },
  {
   "cell_type": "code",
   "execution_count": 48,
   "id": "5f453608-5756-419b-95ce-806ebde027df",
   "metadata": {},
   "outputs": [
    {
     "data": {
      "text/plain": [
       "true"
      ]
     },
     "execution_count": 48,
     "metadata": {},
     "output_type": "execute_result"
    }
   ],
   "source": [
    "\" \".isBlank();"
   ]
  },
  {
   "cell_type": "markdown",
   "id": "ed69c6d6-bb64-4331-9350-851dfc6da716",
   "metadata": {},
   "source": [
    "```java\n",
    "// bean validation\n",
    "@Pattern(regexp = \"\\\\A(?!\\\\s*\\\\Z).+\")\n",
    "String someString;\n",
    "```"
   ]
  },
  {
   "cell_type": "markdown",
   "id": "ffe1a457-1a59-471c-831c-764cf7389785",
   "metadata": {},
   "source": [
    "## Split a String in java"
   ]
  },
  {
   "cell_type": "code",
   "execution_count": 52,
   "id": "bfa8341a-9f9e-45e1-b344-c12ba783b02e",
   "metadata": {},
   "outputs": [],
   "source": [
    "String[] words = \"Hello, My name is Ye Wen Zi!\".split(\" \");"
   ]
  },
  {
   "cell_type": "code",
   "execution_count": 55,
   "id": "4001dab9-58ad-4658-b6d1-b114904c270d",
   "metadata": {},
   "outputs": [
    {
     "data": {
      "text/plain": [
       "[Hello,, My, name, is, Ye, Wen, Zi!]"
      ]
     },
     "execution_count": 55,
     "metadata": {},
     "output_type": "execute_result"
    }
   ],
   "source": [
    "Arrays.toString(words);"
   ]
  },
  {
   "cell_type": "code",
   "execution_count": 59,
   "id": "e2766720-a196-4ba4-a332-9f454fb29ac9",
   "metadata": {},
   "outputs": [
    {
     "data": {
      "text/plain": [
       " My name is Ye Wen Zi!"
      ]
     },
     "execution_count": 59,
     "metadata": {},
     "output_type": "execute_result"
    }
   ],
   "source": [
    "\"Hello, My name is Ye Wen Zi!\".substring(6);"
   ]
  },
  {
   "cell_type": "markdown",
   "id": "9a4b0d7b-6beb-4959-8aaa-92f4ec87544d",
   "metadata": {},
   "source": [
    "## New line character"
   ]
  },
  {
   "cell_type": "code",
   "execution_count": 62,
   "id": "171dc71f-33d9-4694-836d-1c8d12694dc3",
   "metadata": {},
   "outputs": [
    {
     "data": {
      "text/plain": [
       "Hello,\r\n",
       "My name is Ye Wen Zi!"
      ]
     },
     "execution_count": 62,
     "metadata": {},
     "output_type": "execute_result"
    }
   ],
   "source": [
    "\"Hello,\" + System.lineSeparator() + \"My name is Ye Wen Zi!\";"
   ]
  },
  {
   "cell_type": "markdown",
   "id": "f2b64163-3fee-4bfe-a2d3-d1ee5fa90920",
   "metadata": {},
   "source": [
    "## Reverse"
   ]
  },
  {
   "cell_type": "code",
   "execution_count": 63,
   "id": "82071a29-2e69-493b-85d3-46a09cb25349",
   "metadata": {},
   "outputs": [
    {
     "data": {
      "text/plain": [
       "!dlrow ,olleH"
      ]
     },
     "execution_count": 63,
     "metadata": {},
     "output_type": "execute_result"
    }
   ],
   "source": [
    "new StringBuilder(\"Hello, world!\").reverse().toString();"
   ]
  },
  {
   "cell_type": "markdown",
   "id": "ed1f4b29-8b3e-4335-a054-c8c1b69b44e6",
   "metadata": {},
   "source": [
    "### Capitalize"
   ]
  },
  {
   "cell_type": "code",
   "execution_count": 69,
   "id": "3545ec44-ed81-489f-a2e9-8bd99f6923cf",
   "metadata": {},
   "outputs": [
    {
     "data": {
      "text/plain": [
       "Lorem Ipsum Is Simply Dummy Text Of The Printing And Typesetting Industry."
      ]
     },
     "execution_count": 69,
     "metadata": {},
     "output_type": "execute_result"
    }
   ],
   "source": [
    "import java.util.stream.Stream;\n",
    "import java.util.stream.Collectors;\n",
    "\n",
    "String str = \"Lorem Ipsum is simply dummy text of the printing and typesetting industry.\";\n",
    "Stream.of(str.split(\" \"))\n",
    "    .map(word -> word.substring(0, 1).toUpperCase() + word.substring(1))\n",
    "    .collect(Collectors.joining(\" \"));"
   ]
  },
  {
   "cell_type": "markdown",
   "id": "70017083-d0e3-4784-b483-004ac7910deb",
   "metadata": {},
   "source": [
    "## Remove White Space"
   ]
  },
  {
   "cell_type": "code",
   "execution_count": 73,
   "id": "4a1bb2e4-ba7b-40b2-b2fb-d517cffb207c",
   "metadata": {},
   "outputs": [
    {
     "data": {
      "text/plain": [
       "I am a wonderful String !"
      ]
     },
     "execution_count": 73,
     "metadata": {},
     "output_type": "execute_result"
    }
   ],
   "source": [
    "\"   I    am a    wonderful String     !   \".replaceAll(\"\\\\s+\",\" \").trim();"
   ]
  },
  {
   "cell_type": "markdown",
   "id": "c5698da8-ee41-4882-9856-ead6c8a77dfc",
   "metadata": {},
   "source": [
    "## Count character"
   ]
  },
  {
   "cell_type": "code",
   "execution_count": 78,
   "id": "834eabd3-a037-4f70-b9e9-5d38efa0f71b",
   "metadata": {},
   "outputs": [
    {
     "data": {
      "text/plain": [
       "2"
      ]
     },
     "execution_count": 78,
     "metadata": {},
     "output_type": "execute_result"
    }
   ],
   "source": [
    "\"Hello world\".chars().filter(c -> c == 'o').count();"
   ]
  },
  {
   "cell_type": "code",
   "execution_count": 83,
   "id": "744550d2-4b58-4b28-a92c-be43d0075286",
   "metadata": {},
   "outputs": [
    {
     "name": "stdout",
     "output_type": "stream",
     "text": [
      "72\n",
      "101\n",
      "108\n",
      "108\n",
      "111\n",
      "32\n",
      "119\n",
      "111\n",
      "114\n",
      "108\n",
      "100\n"
     ]
    }
   ],
   "source": [
    "\"Hello world\".chars().forEach(System.out::println); //IntStream"
   ]
  },
  {
   "cell_type": "markdown",
   "id": "5a8bfec5-26a4-457a-b564-30b71ff0d6b9",
   "metadata": {},
   "source": [
    "# Palindrome String"
   ]
  },
  {
   "cell_type": "code",
   "execution_count": 85,
   "id": "ad6d601b-645a-456e-99b6-48b70ef8fede",
   "metadata": {},
   "outputs": [
    {
     "data": {
      "text/plain": [
       "true"
      ]
     },
     "execution_count": 85,
     "metadata": {},
     "output_type": "execute_result"
    }
   ],
   "source": [
    "String str = \"abcdcba\";\n",
    "\n",
    "Objects.equals(str, new StringBuilder(str).reverse().toString())"
   ]
  },
  {
   "cell_type": "code",
   "execution_count": null,
   "id": "eca5dda7-77cb-4eec-a3ed-339e07634893",
   "metadata": {},
   "outputs": [],
   "source": []
  }
 ],
 "metadata": {
  "kernelspec": {
   "display_name": "Java",
   "language": "java",
   "name": "java"
  },
  "language_info": {
   "codemirror_mode": "java",
   "file_extension": ".jshell",
   "mimetype": "text/x-java-source",
   "name": "Java",
   "pygments_lexer": "java",
   "version": "17.0.7+8-LTS-224"
  }
 },
 "nbformat": 4,
 "nbformat_minor": 5
}
