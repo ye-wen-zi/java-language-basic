{
 "cells": [
  {
   "cell_type": "markdown",
   "id": "1c456b80-20ad-4019-805a-21029d468459",
   "metadata": {},
   "source": [
    "# Array"
   ]
  },
  {
   "cell_type": "code",
   "execution_count": 2,
   "id": "898623c0-07ef-484b-89ca-9bab83ea015d",
   "metadata": {},
   "outputs": [
    {
     "data": {
      "text/plain": [
       "[0, 0, 0, 0, 0, 0, 0, 0, 0, 0]"
      ]
     },
     "execution_count": 2,
     "metadata": {},
     "output_type": "execute_result"
    }
   ],
   "source": [
    "int[] integerArray = new int[10];\n",
    "Arrays.toString(integerArray);"
   ]
  },
  {
   "cell_type": "code",
   "execution_count": 6,
   "id": "f2376d76-cb05-46d7-95a9-eb96d03979df",
   "metadata": {},
   "outputs": [
    {
     "data": {
      "text/plain": [
       "[null, null, null, null, null, null, null, null, null, null]"
      ]
     },
     "execution_count": 6,
     "metadata": {},
     "output_type": "execute_result"
    }
   ],
   "source": [
    "String[] stringArray = new String[10];\n",
    "Arrays.toString(stringArray);"
   ]
  },
  {
   "cell_type": "code",
   "execution_count": 7,
   "id": "9cf066e5-265c-4d50-b72d-d6734f9dbe87",
   "metadata": {},
   "outputs": [
    {
     "data": {
      "text/plain": [
       "[0, 1, 2, 3, 4, 5]"
      ]
     },
     "execution_count": 7,
     "metadata": {},
     "output_type": "execute_result"
    }
   ],
   "source": [
    "int[] numbers = new int[] { 0, 1, 2, 3, 4, 5 };\n",
    "Arrays.toString(numbers);"
   ]
  },
  {
   "cell_type": "code",
   "execution_count": 9,
   "id": "9a0ca171-006c-456b-81e6-4bb19cadcae8",
   "metadata": {},
   "outputs": [
    {
     "data": {
      "text/plain": [
       "6"
      ]
     },
     "execution_count": 9,
     "metadata": {},
     "output_type": "execute_result"
    }
   ],
   "source": [
    "numbers.length;"
   ]
  },
  {
   "cell_type": "markdown",
   "id": "202d4747-7f9d-4cb0-a029-86d3cbce8070",
   "metadata": {},
   "source": [
    "## Tranforming an Array to a List"
   ]
  },
  {
   "cell_type": "markdown",
   "id": "cbd96085-dc57-495a-b0ad-0cabedb9d9b3",
   "metadata": {},
   "source": [
    "* `Arrays.asList()`: Nhanh gọn nếu bạn chỉ cần một List để đọc hoặc thực hiện các thao tác không thay đổi kích thước. Hãy nhớ rằng List này được backing bởi mảng.\n",
    "* `new ArrayList<>(Arrays.asList(array))`: Phổ biến nhất khi bạn cần một List có khả năng thay đổi kích thước.\n",
    "* Vòng lặp: Hữu ích khi bạn cần thực hiện các thao tác bổ sung trên các phần tử trong quá trình chuyển đổi.\n",
    "* Java Streams: Cách tiếp cận hiện đại và functional, đặc biệt hữu ích khi bạn cần thực hiện các phép biến đổi phức tạp trên các phần tử."
   ]
  },
  {
   "cell_type": "markdown",
   "id": "cd8dce48-903f-47ce-bf9f-09f9c5b36757",
   "metadata": {},
   "source": [
    "The static method `Arrays.asList` takes a varargs argument and creates a list with the passed values. Unfortunately, this method comes with some drawbacks:\n",
    "* It’s not possible to use an array of primitive types\n",
    "* We can’t add or remove elements from the created list, as it’ll throw an `UnsupportedOperationException`"
   ]
  },
  {
   "cell_type": "code",
   "execution_count": 17,
   "id": "67d19bdb-4f02-4455-bf34-8ae324b45706",
   "metadata": {},
   "outputs": [
    {
     "data": {
      "text/plain": [
       "[Java, Python]"
      ]
     },
     "execution_count": 17,
     "metadata": {},
     "output_type": "execute_result"
    }
   ],
   "source": [
    "String[] lang_arr = new String[] { \"Java\", \"Python\" };\n",
    "List<String> lang_list = Arrays.asList(lang_arr);\n",
    "lang_list;"
   ]
  },
  {
   "cell_type": "code",
   "execution_count": 21,
   "id": "c239766b-e3fe-4716-81da-b7584985fba9",
   "metadata": {},
   "outputs": [
    {
     "data": {
      "text/plain": [
       "[Java, Python]"
      ]
     },
     "execution_count": 21,
     "metadata": {},
     "output_type": "execute_result"
    }
   ],
   "source": [
    "import java.util.stream.Collectors;\n",
    "import java.util.stream.Stream;\n",
    "\n",
    "Stream.of(lang_arr).collect(Collectors.toList());"
   ]
  },
  {
   "cell_type": "code",
   "execution_count": 22,
   "id": "34fa518e-69da-4028-9eed-6a2a8fa77a38",
   "metadata": {},
   "outputs": [
    {
     "data": {
      "text/plain": [
       "[Java, Python]"
      ]
     },
     "execution_count": 22,
     "metadata": {},
     "output_type": "execute_result"
    }
   ],
   "source": [
    "Arrays.stream(lang_arr).collect(Collectors.toList());"
   ]
  },
  {
   "cell_type": "code",
   "execution_count": 27,
   "id": "96be3d59-9972-46c4-9fce-26bfdf381d2e",
   "metadata": {},
   "outputs": [
    {
     "data": {
      "text/plain": [
       "[Python]"
      ]
     },
     "execution_count": 27,
     "metadata": {},
     "output_type": "execute_result"
    }
   ],
   "source": [
    "Arrays.stream(lang_arr, 1, 2).collect(Collectors.toList()); // subset"
   ]
  },
  {
   "cell_type": "markdown",
   "id": "aef2f679-2695-4a42-ae72-e3c17878c999",
   "metadata": {},
   "source": [
    "## Sort"
   ]
  },
  {
   "cell_type": "code",
   "execution_count": 38,
   "id": "e2b20d19-1f12-47c3-b461-7f9cfccdb610",
   "metadata": {},
   "outputs": [
    {
     "data": {
      "text/plain": [
       "[0, 2, 3, 3, 7, 9, 10]"
      ]
     },
     "execution_count": 38,
     "metadata": {},
     "output_type": "execute_result"
    }
   ],
   "source": [
    "int[] numbers = new int[] {0, 2, 7, 10, 3, 3, 9};\n",
    "Arrays.sort(numbers);\n",
    "Arrays.toString(numbers);"
   ]
  },
  {
   "cell_type": "code",
   "execution_count": 42,
   "id": "34a546f8-f949-4806-9e31-ac8fe2ec9b18",
   "metadata": {},
   "outputs": [
    {
     "data": {
      "text/plain": [
       "[{ \"name\" : Susan, \"age\": 20 }, { \"name\" : John, \"age\": 21 }]"
      ]
     },
     "execution_count": 42,
     "metadata": {},
     "output_type": "execute_result"
    }
   ],
   "source": [
    "public class User {\n",
    "    public String name;\n",
    "    public int age;\n",
    "\n",
    "    public User(String name, int age) {\n",
    "        this.name = name;\n",
    "        this.age = age;\n",
    "    }\n",
    "\n",
    "    @Override\n",
    "    public String toString() {\n",
    "        return \"\"\"\n",
    "            { \"name\" : %s, \"age\": %d }\"\"\".formatted(name, age);\n",
    "    }\n",
    "}\n",
    "\n",
    "User[] users = new User[] {\n",
    "      new User(\"John\", 21),\n",
    "      new User(\"Susan\", 20)\n",
    "};\n",
    "\n",
    "// Arrays.sort(users, Comparator.comparingInt(user -> user.age));\n",
    "Arrays.sort(users, (u1, u2) -> Integer.compare(u1.age, u2.age));\n",
    "Arrays.toString(users);"
   ]
  },
  {
   "cell_type": "markdown",
   "id": "8e104d87-06d2-4d67-a779-8ed7f40c3e63",
   "metadata": {},
   "source": [
    "## Searching"
   ]
  },
  {
   "cell_type": "markdown",
   "id": "69e0fe07-6a6d-48ae-8a15-4cc368ff13bd",
   "metadata": {},
   "source": [
    "* For loop\n",
    "* binary search\n",
    "* Change to list"
   ]
  },
  {
   "cell_type": "code",
   "execution_count": 46,
   "id": "fcb4acc9-4ca5-4142-909d-dcaa6d8c50d6",
   "metadata": {},
   "outputs": [
    {
     "data": {
      "text/plain": [
       "1"
      ]
     },
     "execution_count": 46,
     "metadata": {},
     "output_type": "execute_result"
    }
   ],
   "source": [
    "String[] langs = new String[] { \"Java\", \"Python\", \"Csharp\" };\n",
    "\n",
    "Arrays.asList(langs).indexOf(\"Python\");"
   ]
  },
  {
   "cell_type": "markdown",
   "id": "39392cbc-3ca9-4339-b442-f2f79bd6c692",
   "metadata": {},
   "source": [
    "## Concatenating "
   ]
  },
  {
   "cell_type": "code",
   "execution_count": 50,
   "id": "2a5fe1c8-b669-49fb-a24b-fba38d53e813",
   "metadata": {},
   "outputs": [
    {
     "data": {
      "text/plain": [
       "[cat, dog, fish, bird]"
      ]
     },
     "execution_count": 50,
     "metadata": {},
     "output_type": "execute_result"
    }
   ],
   "source": [
    "String[] arr_1 = {\"cat\", \"dog\"};\n",
    "String[] arr_2 = {\"fish\", \"bird\"};\n",
    "\n",
    "String[] arr = Stream.concat(Arrays.stream(arr_1), Arrays.stream(arr_2)).toArray(String[]::new);\n",
    "Arrays.toString(arr);"
   ]
  },
  {
   "cell_type": "markdown",
   "id": "006cf0fd-fc3a-4eb7-8997-f621f35b475b",
   "metadata": {},
   "source": [
    "## Copy and compare"
   ]
  },
  {
   "cell_type": "code",
   "execution_count": 59,
   "id": "9c24e942-8e02-4be4-af76-34d05333cb33",
   "metadata": {},
   "outputs": [],
   "source": [
    "int[] array = { 1, 2, 3, 4, 5 };\n",
    "int[] copy = Arrays.copyOf(array, 5);"
   ]
  },
  {
   "cell_type": "code",
   "execution_count": 60,
   "id": "b1b9be4b-30f8-476d-8284-5c609f5fa83c",
   "metadata": {},
   "outputs": [
    {
     "data": {
      "text/plain": [
       "true"
      ]
     },
     "execution_count": 60,
     "metadata": {},
     "output_type": "execute_result"
    }
   ],
   "source": [
    "Arrays.equals(array, copy);"
   ]
  },
  {
   "cell_type": "markdown",
   "id": "9680ec8c-be51-4d12-816a-39ceb93d081f",
   "metadata": {},
   "source": [
    "Đối với Array trong Java, bạn KHÔNG nên sử dụng trực tiếp `Objects.equals()` để so sánh nội dung của hai mảng.\n",
    "\n",
    "* Lý do là vì khi bạn gọi `equals()` trực tiếp trên một đối tượng mảng (ví dụ: `array1.equals(array2))`, nó sẽ chỉ `so sánh tham chiếu` của hai mảng. Điều này có nghĩa là nó chỉ trả về true nếu array1 và array2 thực sự là cùng một đối tượng mảng trong bộ nhớ (cùng một vùng nhớ), chứ không so sánh các phần tử bên trong mảng.\n",
    "\n",
    "* Để so sánh nội dung của hai mảng, bạn cần sử dụng các phương thức tĩnh trong lớp java.util.Arrays\n",
    "* When we have nested or multi-dimensional arrays, we can use deepEquals to not only check the top-level elements but also perform the check recursively:"
   ]
  },
  {
   "cell_type": "code",
   "execution_count": 62,
   "id": "5c7518f3-4306-4276-bfdf-58a65e3015ce",
   "metadata": {},
   "outputs": [
    {
     "data": {
      "text/plain": [
       "false"
      ]
     },
     "execution_count": 62,
     "metadata": {},
     "output_type": "execute_result"
    }
   ],
   "source": [
    "array.equals(copy);"
   ]
  },
  {
   "cell_type": "code",
   "execution_count": 63,
   "id": "f2f0f491-803d-46e0-b079-ae79c44a99e2",
   "metadata": {},
   "outputs": [
    {
     "data": {
      "text/plain": [
       "false"
      ]
     },
     "execution_count": 63,
     "metadata": {},
     "output_type": "execute_result"
    }
   ],
   "source": [
    "Objects.equals(array, copy);"
   ]
  },
  {
   "cell_type": "code",
   "execution_count": 64,
   "id": "fd200f99-0bf9-4040-a240-ffb371a4c696",
   "metadata": {},
   "outputs": [
    {
     "data": {
      "text/plain": [
       "[1, 2]"
      ]
     },
     "execution_count": 64,
     "metadata": {},
     "output_type": "execute_result"
    }
   ],
   "source": [
    "int[] copy_with_range = Arrays.copyOfRange(array, 0, 2);\n",
    "Arrays.toString(copy_with_range);"
   ]
  },
  {
   "cell_type": "markdown",
   "id": "e527b392-ad08-42cf-bc9a-fbad9b4d517f",
   "metadata": {},
   "source": [
    "## Fiil all element"
   ]
  },
  {
   "cell_type": "code",
   "execution_count": 65,
   "id": "74b4aaf6-5d98-4e7f-970c-faa05eb792d8",
   "metadata": {},
   "outputs": [
    {
     "data": {
      "text/plain": [
       "[null, null, null, null, null, null, null, null, null, null]"
      ]
     },
     "execution_count": 65,
     "metadata": {},
     "output_type": "execute_result"
    }
   ],
   "source": [
    "String[] langs = new String[10];\n",
    "\n",
    "Arrays.toString(langs);"
   ]
  },
  {
   "cell_type": "code",
   "execution_count": 66,
   "id": "7a74d027-5549-4d5a-aa69-3c4848208996",
   "metadata": {},
   "outputs": [
    {
     "data": {
      "text/plain": [
       "[Python, Python, Python, Python, Python, Python, Python, Python, Python, Python]"
      ]
     },
     "execution_count": 66,
     "metadata": {},
     "output_type": "execute_result"
    }
   ],
   "source": [
    "Arrays.fill(langs, \"Python\");\n",
    "Arrays.toString(langs);"
   ]
  },
  {
   "cell_type": "markdown",
   "id": "8030ccf6-813d-4781-9ccb-886ee1611463",
   "metadata": {},
   "source": [
    "## `java.util.Arrays` class"
   ]
  },
  {
   "cell_type": "markdown",
   "id": "32063ab0-dc66-472d-a962-c0577f512e6c",
   "metadata": {},
   "source": [
    "[Guide to the `java.util.Arrays` class](https://www.baeldung.com/java-util-arrays)"
   ]
  },
  {
   "cell_type": "code",
   "execution_count": null,
   "id": "afc12757-261c-4d63-97a2-116641ca8242",
   "metadata": {},
   "outputs": [],
   "source": []
  }
 ],
 "metadata": {
  "kernelspec": {
   "display_name": "Java",
   "language": "java",
   "name": "java"
  },
  "language_info": {
   "codemirror_mode": "java",
   "file_extension": ".jshell",
   "mimetype": "text/x-java-source",
   "name": "Java",
   "pygments_lexer": "java",
   "version": "17.0.7+8-LTS-224"
  }
 },
 "nbformat": 4,
 "nbformat_minor": 5
}
