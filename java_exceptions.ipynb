{
 "cells": [
  {
   "cell_type": "markdown",
   "id": "61e683a3-8a79-4046-bbf2-c8e9ca0e267e",
   "metadata": {},
   "source": [
    "# Java Exception"
   ]
  },
  {
   "cell_type": "markdown",
   "id": "672e0fae-cf8e-4e80-9490-6319a01a81f5",
   "metadata": {},
   "source": [
    "## Try with resources"
   ]
  },
  {
   "cell_type": "markdown",
   "id": "ae4751d1-4695-4c01-b895-d6f835a1b176",
   "metadata": {},
   "source": [
    "```java\n",
    "try (Scanner scanner = new Scanner(new File(\"testRead.txt\")); \n",
    "    PrintWriter writer = new PrintWriter(new File(\"testWrite.txt\"))) { \n",
    "    // omitted\n",
    "}\n",
    "```"
   ]
  },
  {
   "cell_type": "markdown",
   "id": "6a88c406-51eb-4670-96fd-8e14403dc89a",
   "metadata": {},
   "source": [
    "As shown above, this was especially verbose when declaring multiple resources. As of Java 9 and as part of JEP 213, we can now use final or even effectively final variables inside a try-with-resources block:"
   ]
  },
  {
   "cell_type": "markdown",
   "id": "23ce9763-ecae-4eb5-884a-e64af48f44e0",
   "metadata": {},
   "source": [
    "```java\n",
    "final Scanner scanner = new Scanner(new File(\"testRead.txt\"));\n",
    "PrintWriter writer = new PrintWriter(new File(\"testWrite.txt\"))\n",
    "try (scanner;writer) { \n",
    "    // omitted\n",
    "}\n",
    "```"
   ]
  },
  {
   "cell_type": "markdown",
   "id": "aa2cc99f-af3b-4cfa-88cb-0d11f489096a",
   "metadata": {},
   "source": [
    "* Put simply, a variable is effectively final if it doesn’t change after the first assignment, even though it’s not explicitly marked as final.\n",
    "* As shown above, the scanner variable is declared final explicitly, so we can use it with the try-with-resources block. Although the writer variable is not explicitly final, it doesn’t change after the first assignment. So, we can to use the writer variable too."
   ]
  }
 ],
 "metadata": {
  "kernelspec": {
   "display_name": "Java",
   "language": "java",
   "name": "java"
  },
  "language_info": {
   "codemirror_mode": "java",
   "file_extension": ".jshell",
   "mimetype": "text/x-java-source",
   "name": "Java",
   "pygments_lexer": "java",
   "version": "17.0.7+8-LTS-224"
  }
 },
 "nbformat": 4,
 "nbformat_minor": 5
}
