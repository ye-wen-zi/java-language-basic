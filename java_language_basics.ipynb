{
 "cells": [
  {
   "cell_type": "markdown",
   "id": "6a145d3e-81ce-4799-aa01-f9e725876024",
   "metadata": {},
   "source": [
    "# Java Language Basics"
   ]
  },
  {
   "cell_type": "markdown",
   "id": "b103b39c-abaa-42a0-9c89-4b7a62c4215f",
   "metadata": {},
   "source": [
    "## Introduction to Basic Syntax in Java"
   ]
  },
  {
   "cell_type": "code",
   "execution_count": 1,
   "id": "2d57a73a-b9e8-42dc-97a8-4e6315086c0c",
   "metadata": {},
   "outputs": [
    {
     "data": {
      "text/plain": [
       "Hello, world!"
      ]
     },
     "execution_count": 1,
     "metadata": {},
     "output_type": "execute_result"
    }
   ],
   "source": [
    "String str = \"Hello, world!\";\n",
    "str"
   ]
  },
  {
   "cell_type": "code",
   "execution_count": 2,
   "id": "406f93a2-17b9-44f8-8ef7-d0abecadbfe9",
   "metadata": {},
   "outputs": [
    {
     "name": "stdout",
     "output_type": "stream",
     "text": [
      "1\n",
      "2\n",
      "3\n"
     ]
    }
   ],
   "source": [
    "import java.util.stream.*;\n",
    "\n",
    "int[] numbers = new int[] {1, 2, 3};\n",
    "Arrays.stream(numbers).forEach(System.out::println)"
   ]
  },
  {
   "cell_type": "code",
   "execution_count": 3,
   "id": "180af7fc-f4ae-418f-831b-805b849e503c",
   "metadata": {},
   "outputs": [
    {
     "data": {
      "text/plain": [
       "3"
      ]
     },
     "execution_count": 3,
     "metadata": {},
     "output_type": "execute_result"
    }
   ],
   "source": [
    "numbers.length"
   ]
  },
  {
   "cell_type": "markdown",
   "id": "2099ca06-45ef-44e3-83cd-38b60ea91226",
   "metadata": {},
   "source": [
    "## Introdction to Java Primitives"
   ]
  },
  {
   "cell_type": "markdown",
   "id": "aa5bf47c-af54-40eb-a184-2671989d842b",
   "metadata": {},
   "source": [
    "The `eight` primitives defined in Java are `int`, `byte`, `short`, `long`, `float`, `double`, `boolean` and `char`. These aren’t considered objects and represent raw values."
   ]
  },
  {
   "cell_type": "code",
   "execution_count": 4,
   "id": "6304982d-cc49-4dee-abf5-dc6fcd406813",
   "metadata": {},
   "outputs": [],
   "source": [
    "float a = 10f;"
   ]
  },
  {
   "cell_type": "code",
   "execution_count": 5,
   "id": "29834389-666e-49c9-8344-c399b2c99e9e",
   "metadata": {},
   "outputs": [],
   "source": [
    "double b = 100D;"
   ]
  },
  {
   "cell_type": "markdown",
   "id": "3d875b9d-b971-4d7c-a563-e906682b76f2",
   "metadata": {},
   "source": [
    "### Overflow"
   ]
  },
  {
   "cell_type": "code",
   "execution_count": 6,
   "id": "b8a5448c-6446-47d3-ab11-f63303fd8d12",
   "metadata": {},
   "outputs": [
    {
     "data": {
      "text/plain": [
       "2147483647"
      ]
     },
     "execution_count": 6,
     "metadata": {},
     "output_type": "execute_result"
    }
   ],
   "source": [
    "Integer.MAX_VALUE"
   ]
  },
  {
   "cell_type": "code",
   "execution_count": 7,
   "id": "86767f32-394e-4c86-ae22-2d9936e9262c",
   "metadata": {},
   "outputs": [
    {
     "data": {
      "text/plain": [
       "true"
      ]
     },
     "execution_count": 7,
     "metadata": {},
     "output_type": "execute_result"
    }
   ],
   "source": [
    "int i = Integer.MAX_VALUE + 1;\n",
    "i == Integer.MIN_VALUE"
   ]
  },
  {
   "cell_type": "code",
   "execution_count": 8,
   "id": "06cf387c-57ca-4f3d-ac5f-9f1883c4ee24",
   "metadata": {},
   "outputs": [
    {
     "data": {
      "text/plain": [
       "1.7976931348623157E308"
      ]
     },
     "execution_count": 8,
     "metadata": {},
     "output_type": "execute_result"
    }
   ],
   "source": [
    "Double.MAX_VALUE"
   ]
  },
  {
   "cell_type": "code",
   "execution_count": 9,
   "id": "eb038693-f0b0-4b65-a7ed-8229a46d3ec7",
   "metadata": {},
   "outputs": [
    {
     "data": {
      "text/plain": [
       "1.7976931348623157E308"
      ]
     },
     "execution_count": 9,
     "metadata": {},
     "output_type": "execute_result"
    }
   ],
   "source": [
    "double d = Double.MAX_VALUE + 1;\n",
    "d"
   ]
  },
  {
   "cell_type": "markdown",
   "id": "6cf2e09a-32e0-4a43-98f2-8181eadf5339",
   "metadata": {},
   "source": [
    "### Autoboxing"
   ]
  },
  {
   "cell_type": "code",
   "execution_count": 10,
   "id": "678961f0-ea43-4165-bc56-8103fdc5033e",
   "metadata": {},
   "outputs": [],
   "source": [
    "Character c = 'c';"
   ]
  },
  {
   "cell_type": "code",
   "execution_count": 11,
   "id": "377dc143-ec83-4cd3-9d5f-e46a7afac9d4",
   "metadata": {},
   "outputs": [],
   "source": [
    "Integer i = 1;"
   ]
  },
  {
   "cell_type": "markdown",
   "id": "efa96acc-8f88-44d9-888c-60328e58d4e4",
   "metadata": {},
   "source": [
    "## Varagrs"
   ]
  },
  {
   "cell_type": "markdown",
   "id": "b6b5059d-1b5d-4919-98a6-3cab40b8fdcb",
   "metadata": {},
   "source": [
    "varargs are arrays so we need to work with them just like we’d work with a normal array."
   ]
  },
  {
   "cell_type": "code",
   "execution_count": 12,
   "id": "31072458-de6e-4246-9f1a-ed656783eb02",
   "metadata": {},
   "outputs": [],
   "source": [
    "public static int sum(int ...args) {\n",
    "    return Arrays.stream(args).reduce(0, (a, b) -> a + b);\n",
    "}"
   ]
  },
  {
   "cell_type": "code",
   "execution_count": 13,
   "id": "d1a23c73-1af8-4b02-9966-edbf269b7cc6",
   "metadata": {},
   "outputs": [
    {
     "data": {
      "text/plain": [
       "45"
      ]
     },
     "execution_count": 13,
     "metadata": {},
     "output_type": "execute_result"
    }
   ],
   "source": [
    "sum(1, 2, 3, 4, 5, 6, 7, 8, 9)"
   ]
  },
  {
   "cell_type": "markdown",
   "id": "e99636dc-3eed-4b21-a271-c245a3c77c82",
   "metadata": {},
   "source": [
    "## `hasCode()` in Java"
   ]
  },
  {
   "cell_type": "markdown",
   "id": "d72f8300-a4e7-4033-aa14-806df492eb80",
   "metadata": {},
   "source": [
    "A common approach to overriding hashCode() is to rely on the properties used in the equals() method. You should combine the hash codes of these properties to create a hash code for the object."
   ]
  },
  {
   "cell_type": "code",
   "execution_count": 15,
   "id": "51feb4b6-b33c-44be-83a2-3fe9f624d3ef",
   "metadata": {},
   "outputs": [],
   "source": [
    "public class Person {\n",
    "    private String name;\n",
    "    private int age;\n",
    "\n",
    "    // gettes and setters\n",
    "    // ....\n",
    "    \n",
    "    public Person(String name, int age) {\n",
    "        this.name = name;\n",
    "        this.age = age;\n",
    "    }\n",
    "\n",
    "    @Override\n",
    "    public boolean equals(Object obj) {\n",
    "        if (this == obj) return true;\n",
    "        if (obj == null || getClass() != obj.getClass()) return false;\n",
    "\n",
    "        Person person = (Person) obj;\n",
    "        /** \n",
    "          * Inside the equals() method of the Person class, \n",
    "          * we have access to the private members \n",
    "          * of any other object of the same Person class. \n",
    "          * This is a small exception to the private rule \n",
    "          * to allow comparison of the internal state of objects of the same type.\n",
    "          */\n",
    "        return this.age == person.age && Objects.equals(this.name, person.name);\n",
    "    }\n",
    "\n",
    "    @Override\n",
    "    public int hashCode() {\n",
    "        return Objects.hash(name, age);\n",
    "    }\n",
    "}"
   ]
  },
  {
   "cell_type": "code",
   "execution_count": 20,
   "id": "45b24e1c-6c9d-4035-aa33-780f106230c3",
   "metadata": {},
   "outputs": [
    {
     "name": "stdout",
     "output_type": "stream",
     "text": [
      "Person found in the collection!"
     ]
    }
   ],
   "source": [
    "// main method\n",
    "Map<Person, Person> people = new HashMap<>();\n",
    "Person p1 = new Person(\"John\", 21);\n",
    "Person p2 = new Person(\"Mary\", 20);\n",
    "\n",
    "people.put(p1, p1);\n",
    "people.put(p2, p2);\n",
    "\n",
    "Person p3 = new Person(\"John\", 21);\n",
    "\n",
    "if(people.containsKey(p3)) {\n",
    "    System.out.print(\"Person found in the collection!\");\n",
    "}"
   ]
  },
  {
   "cell_type": "markdown",
   "id": "0e66d061-ada1-4284-8fef-43b256bf5829",
   "metadata": {},
   "source": [
    "## Java Switch Statement"
   ]
  },
  {
   "cell_type": "code",
   "execution_count": 25,
   "id": "ca98e5ac-3ef4-48a0-afe2-b90e6e9a31db",
   "metadata": {},
   "outputs": [],
   "source": [
    "public String exampleOfSwitch(String animal) {\n",
    "    String result;\n",
    "    switch (animal) {\n",
    "        case \"DOG\":\n",
    "        case \"CAT\":\n",
    "            result = \"demestic animal\";\n",
    "            break;\n",
    "        case \"TIGER\":\n",
    "            result = \"wild animal\";\n",
    "            break;\n",
    "        default:\n",
    "            result = \"unknown animal\";\n",
    "            break;\n",
    "    }\n",
    "    return result;\n",
    "}"
   ]
  },
  {
   "cell_type": "code",
   "execution_count": 27,
   "id": "51a22828-d907-4a61-9089-54e3fd6bc334",
   "metadata": {},
   "outputs": [
    {
     "data": {
      "text/plain": [
       "demestic animal"
      ]
     },
     "execution_count": 27,
     "metadata": {},
     "output_type": "execute_result"
    }
   ],
   "source": [
    "exampleOfSwitch(\"DOG\")"
   ]
  },
  {
   "cell_type": "markdown",
   "id": "616d077a-85c8-4aeb-96a5-1debf2fb8dc5",
   "metadata": {},
   "source": [
    "We can’t compare all the types of objects and primitives in the switch statement. A switch works only with four primitives and their wrappers as well as with the enum type and the String class:\n",
    "\n",
    "byte and Byte\n",
    "short and Short\n",
    "int and Integer\n",
    "char and Character\n",
    "enum\n",
    "String\n",
    "String type is available in the switch statement starting with Java 7.\n",
    "\n",
    "enum type was introduced in Java 5 and has been available in the switch statement since then.\n",
    "\n",
    "Wrapper classes have also been available since Java 5."
   ]
  },
  {
   "cell_type": "markdown",
   "id": "19dc6b43-d691-402c-be00-0a1d5e561573",
   "metadata": {},
   "source": [
    "**We can’t pass the null value as an argument to a switch statement.**"
   ]
  },
  {
   "cell_type": "code",
   "execution_count": 28,
   "id": "5a7d6f5e-1fa7-4e34-a484-ca2423345857",
   "metadata": {},
   "outputs": [
    {
     "ename": "EvalException",
     "evalue": "Cannot invoke \"String.hashCode()\" because \"<local2>\" is null",
     "output_type": "error",
     "traceback": [
      "\u001b[1m\u001b[31m---------------------------------------------------------------------------\u001b[0m",
      "\u001b[1m\u001b[31mjava.lang.NullPointerException: Cannot invoke \"String.hashCode()\" because \"<local2>\" is null\u001b[0m",
      "\u001b[1m\u001b[31m\tat .exampleOfSwitch(#49:3)\u001b[0m",
      "\u001b[1m\u001b[31m\tat .(#55:1)\u001b[0m"
     ]
    }
   ],
   "source": [
    "exampleOfSwitch(null)"
   ]
  },
  {
   "cell_type": "code",
   "execution_count": 35,
   "id": "8665f90f-083b-4d34-93a7-52c1981803b3",
   "metadata": {},
   "outputs": [],
   "source": [
    "var result = switch(2) {\n",
    "    case 1, 3, 5, 7, 9 -> \"Odd Number\";\n",
    "    case 2, 4, 6, 8, 0 -> {\n",
    "        String typeNumber = \"Even Number\";\n",
    "        yield typeNumber;\n",
    "    }\n",
    "    default -> \"Unknown\";\n",
    "};"
   ]
  },
  {
   "cell_type": "code",
   "execution_count": 36,
   "id": "bc824f4f-9dd5-4d77-a488-71cfd874c217",
   "metadata": {},
   "outputs": [
    {
     "data": {
      "text/plain": [
       "Even Number"
      ]
     },
     "execution_count": 36,
     "metadata": {},
     "output_type": "execute_result"
    }
   ],
   "source": [
    "result"
   ]
  },
  {
   "cell_type": "markdown",
   "id": "d4d37b14-7ea9-4dc5-8a89-32b16b5bf92a",
   "metadata": {},
   "source": [
    "## `forEach` Loop"
   ]
  },
  {
   "cell_type": "markdown",
   "id": "37f2550e-0452-4ef6-8125-2e6e5f2cd9d0",
   "metadata": {},
   "source": [
    "* Cannot Modify the Collection Itself\n",
    "* Cannot Break or Continue a Loop\n",
    "* Doesn’t Permit Counter\n",
    "* [We can use an atomic variable instead, which allows modification inside a lambda expression.](https://www.baeldung.com/java-atomic-variables)"
   ]
  },
  {
   "cell_type": "code",
   "execution_count": 38,
   "id": "31e7e379-8787-48a2-b921-104014c194ac",
   "metadata": {},
   "outputs": [
    {
     "name": "stdout",
     "output_type": "stream",
     "text": [
      "Java\n",
      "Python\n",
      "JavaScript\n"
     ]
    }
   ],
   "source": [
    "List<String> languages = List.of(\"Java\", \"Python\", \"JavaScript\");\n",
    "\n",
    "for(String lan: languages) {\n",
    "    System.out.println(lan);\n",
    "}"
   ]
  },
  {
   "cell_type": "code",
   "execution_count": 41,
   "id": "8ed8185b-18ea-42df-a91d-7ac9923d51d9",
   "metadata": {},
   "outputs": [
    {
     "name": "stdout",
     "output_type": "stream",
     "text": [
      "Java\n",
      "Python\n",
      "JavaScript\n"
     ]
    }
   ],
   "source": [
    "languages.forEach(System.out::println);"
   ]
  },
  {
   "cell_type": "code",
   "execution_count": 42,
   "id": "451a9cea-856c-4c00-ae00-09f444138027",
   "metadata": {},
   "outputs": [
    {
     "name": "stdout",
     "output_type": "stream",
     "text": [
      "Java\n",
      "Python\n",
      "JavaScript\n"
     ]
    }
   ],
   "source": [
    "languages.forEach(lan -> System.out.println(lan));"
   ]
  },
  {
   "cell_type": "code",
   "execution_count": 43,
   "id": "3c8927a4-8368-4dec-8a0b-eeda0f4baf8f",
   "metadata": {},
   "outputs": [
    {
     "name": "stdout",
     "output_type": "stream",
     "text": [
      "1: Java\n",
      "2: Python\n",
      "3: JavaScript\n"
     ]
    }
   ],
   "source": [
    "Map<Integer, String> languages = new HashMap<>();\n",
    "\n",
    "languages.put(1, \"Java\");\n",
    "languages.put(2, \"Python\");\n",
    "languages.put(3, \"JavaScript\");\n",
    "\n",
    "languages.forEach((key, value) -> System.out.println(key + \": \" + value));"
   ]
  },
  {
   "cell_type": "code",
   "execution_count": null,
   "id": "d5d53d0a-fbbd-4244-a65f-b1e87a46032f",
   "metadata": {},
   "outputs": [],
   "source": []
  }
 ],
 "metadata": {
  "kernelspec": {
   "display_name": "Java",
   "language": "java",
   "name": "java"
  },
  "language_info": {
   "codemirror_mode": "java",
   "file_extension": ".jshell",
   "mimetype": "text/x-java-source",
   "name": "Java",
   "pygments_lexer": "java",
   "version": "17.0.7+8-LTS-224"
  }
 },
 "nbformat": 4,
 "nbformat_minor": 5
}
