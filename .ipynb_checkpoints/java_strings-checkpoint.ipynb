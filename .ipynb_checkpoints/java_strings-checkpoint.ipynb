{
 "cells": [
  {
   "cell_type": "markdown",
   "id": "2748bc42-daae-4f97-ab96-86fbf4aaec73",
   "metadata": {},
   "source": [
    "## Concatenating Strings in java"
   ]
  },
  {
   "cell_type": "markdown",
   "id": "d922923d-4f5f-4512-a103-f71a20761b4c",
   "metadata": {},
   "source": [
    "* Đối với các phép nối chuỗi đơn giản (ví dụ: nối một vài chuỗi cố định hoặc kết hợp với một vài biến): Toán tử `+` thường là lựa chọn đơn giản và dễ đọc nhất.\n",
    "* Đối với các phép nối chuỗi phức tạp hoặc khi thực hiện nhiều phép nối chuỗi liên tiếp (ví dụ: trong vòng lặp): `StringBuilder` là lựa chọn tốt nhất do hiệu suất vượt trội.\n",
    "* Trong môi trường đa luồng mà nhiều luồng có thể cùng sửa đổi chuỗi: `StringBuffer` là lựa chọn an toàn hơn, mặc dù có thể có chi phí hiệu suất cao hơn so với StringBuilder. Tuy nhiên, trong nhiều ứng dụng hiện đại, việc xây dựng chuỗi thường được thực hiện trong phạm vi một luồng, nên StringBuilder thường được ưu tiên hơn"
   ]
  },
  {
   "cell_type": "markdown",
   "id": "7ee5a809-3b64-4c5d-9ec0-ca78e7562d95",
   "metadata": {},
   "source": [
    "## Java String Pool"
   ]
  },
  {
   "cell_type": "markdown",
   "id": "ecce0823-b1fc-4de4-9a72-56ed38ca8a73",
   "metadata": {},
   "source": [
    "* When we create a String object using the new() operator, it always creates a new object in heap memory. On the other hand, if we create an object using String literal syntax e.g. “Baeldung”, it may return an existing object from the String pool, if it already exists. Otherwise, it will create a new String object and put in the string pool for future re-use."
   ]
  },
  {
   "cell_type": "markdown",
   "id": "af539ada-3659-4a1c-ae3f-21cfefa50381",
   "metadata": {},
   "source": [
    "## Interate Ovẻ Thẻ String Character"
   ]
  },
  {
   "cell_type": "code",
   "execution_count": 3,
   "id": "1f42d550-5e70-42ad-86c8-3ee946b24a79",
   "metadata": {},
   "outputs": [
    {
     "name": "stdout",
     "output_type": "stream",
     "text": [
      "Y e   W e n   Z i "
     ]
    }
   ],
   "source": [
    "String str = \"Ye Wen Zi\";\n",
    "for(int i = 0; i < str.length(); i++) {\n",
    "    System.out.print(str.charAt(i) + \" \");\n",
    "}"
   ]
  },
  {
   "cell_type": "code",
   "execution_count": 5,
   "id": "3f72a3f7-e138-45bc-8dbb-bf7084c5192a",
   "metadata": {},
   "outputs": [
    {
     "name": "stdout",
     "output_type": "stream",
     "text": [
      "Y e   W e n   Z i "
     ]
    }
   ],
   "source": [
    "String str = \"Ye Wen Zi\";\n",
    "for(char c: str.toCharArray()) {\n",
    "    System.out.print(c + \" \");    \n",
    "}"
   ]
  },
  {
   "cell_type": "markdown",
   "id": "66ecadc6-c166-48ca-b5fc-73881a34f3ef",
   "metadata": {},
   "source": [
    "## Comparing Strings"
   ]
  },
  {
   "cell_type": "code",
   "execution_count": 6,
   "id": "afb0692d-1abf-4fd3-8785-cf6cab6cbd35",
   "metadata": {},
   "outputs": [],
   "source": [
    "String s1 = \"Ye Wen Zi!\";\n",
    "String s2 = \"Ye Wen Zi!\";"
   ]
  },
  {
   "cell_type": "code",
   "execution_count": 9,
   "id": "57169749-6b5f-4793-bc6c-1d5cac3600a9",
   "metadata": {},
   "outputs": [
    {
     "data": {
      "text/plain": [
       "true"
      ]
     },
     "execution_count": 9,
     "metadata": {},
     "output_type": "execute_result"
    }
   ],
   "source": [
    "Objects.equals(s1, s2);"
   ]
  },
  {
   "cell_type": "code",
   "execution_count": 10,
   "id": "3ebf357d-46b0-4449-a73d-3b310ca041e2",
   "metadata": {},
   "outputs": [
    {
     "data": {
      "text/plain": [
       "true"
      ]
     },
     "execution_count": 10,
     "metadata": {},
     "output_type": "execute_result"
    }
   ],
   "source": [
    "s1.equals(s2);"
   ]
  },
  {
   "cell_type": "code",
   "execution_count": null,
   "id": "d78bf32e-2f32-47ff-a8b3-f991319cd98c",
   "metadata": {},
   "outputs": [],
   "source": [
    "s1.equals()"
   ]
  }
 ],
 "metadata": {
  "kernelspec": {
   "display_name": "Java",
   "language": "java",
   "name": "java"
  },
  "language_info": {
   "codemirror_mode": "java",
   "file_extension": ".jshell",
   "mimetype": "text/x-java-source",
   "name": "Java",
   "pygments_lexer": "java",
   "version": "17.0.7+8-LTS-224"
  }
 },
 "nbformat": 4,
 "nbformat_minor": 5
}
