{
 "cells": [
  {
   "cell_type": "markdown",
   "id": "ed6d6695-de15-4fff-ba56-4f1de42a56df",
   "metadata": {},
   "source": [
    "# Stream"
   ]
  },
  {
   "cell_type": "markdown",
   "id": "69bb55c9-0d5b-4834-84b9-7c1c76f94349",
   "metadata": {},
   "source": [
    "## Stream creation"
   ]
  },
  {
   "cell_type": "code",
   "execution_count": 1,
   "id": "74e314a2-c4cc-4fe2-93bf-5400f5c24290",
   "metadata": {},
   "outputs": [],
   "source": [
    "import java.util.stream.Stream;\n",
    "import java.util.stream.Collectors;"
   ]
  },
  {
   "cell_type": "code",
   "execution_count": 2,
   "id": "87e40b6f-3179-4ccf-bf33-78298be5fc9a",
   "metadata": {},
   "outputs": [],
   "source": [
    "String[] arr = new String[] {\"python\", \"java\", \"csharp\", \"php\"};"
   ]
  },
  {
   "cell_type": "code",
   "execution_count": 3,
   "id": "187002ac-c325-4184-9ed4-30a6a1d2cc64",
   "metadata": {},
   "outputs": [],
   "source": [
    "// Arrays.stream()\n",
    "Stream<String> stream_ = Arrays.stream(arr);"
   ]
  },
  {
   "cell_type": "code",
   "execution_count": 4,
   "id": "2fc87c65-83d8-4f0f-8a5a-77621f9ef8f9",
   "metadata": {},
   "outputs": [
    {
     "data": {
      "text/plain": [
       "[java, csharp]"
      ]
     },
     "execution_count": 4,
     "metadata": {},
     "output_type": "execute_result"
    }
   ],
   "source": [
    "// Arrays.stream()\n",
    "Stream<String> stream_ = Arrays.stream(arr, 1, 3);\n",
    "stream_.collect(Collectors.toList())"
   ]
  },
  {
   "cell_type": "code",
   "execution_count": 5,
   "id": "8437ec2e-ffcf-4c5d-b202-f7f8eb7edd95",
   "metadata": {},
   "outputs": [],
   "source": [
    "// Stream.of()\n",
    "stream_ = Stream.of(arr);"
   ]
  },
  {
   "cell_type": "code",
   "execution_count": 6,
   "id": "107bc618-582c-49e1-8a5a-3d316e0a95d8",
   "metadata": {},
   "outputs": [],
   "source": [
    "// Collection.stream()\n",
    "List<String> list = Arrays.asList(arr);\n",
    "stream_ = list.stream();"
   ]
  },
  {
   "cell_type": "code",
   "execution_count": 7,
   "id": "ca8fbce4-7f7a-4151-9214-0633229eb57d",
   "metadata": {},
   "outputs": [
    {
     "name": "stdout",
     "output_type": "stream",
     "text": [
      "python\n",
      "java\n",
      "csharp\n",
      "php\n"
     ]
    }
   ],
   "source": [
    "stream_.forEach(System.out::println)"
   ]
  },
  {
   "cell_type": "markdown",
   "id": "44a76517-eeeb-4be6-9f3c-e1f557d139b7",
   "metadata": {},
   "source": [
    "## Stream Operations"
   ]
  },
  {
   "cell_type": "code",
   "execution_count": 8,
   "id": "01923e6c-74f6-494e-9d64-c76fa101cec1",
   "metadata": {},
   "outputs": [
    {
     "data": {
      "text/plain": [
       "4"
      ]
     },
     "execution_count": 8,
     "metadata": {},
     "output_type": "execute_result"
    }
   ],
   "source": [
    "list.stream().distinct().count();"
   ]
  },
  {
   "cell_type": "markdown",
   "id": "096ae4b4-e9d2-43f1-a5c8-19004f90b5c2",
   "metadata": {},
   "source": [
    "### Iterating"
   ]
  },
  {
   "cell_type": "code",
   "execution_count": 9,
   "id": "acd57a0c-b9b7-4a7b-8a25-7eb0ff1d44ae",
   "metadata": {},
   "outputs": [
    {
     "data": {
      "text/plain": [
       "true"
      ]
     },
     "execution_count": 9,
     "metadata": {},
     "output_type": "execute_result"
    }
   ],
   "source": [
    "list.stream().anyMatch(item -> item.contains(\"py\"))"
   ]
  },
  {
   "cell_type": "markdown",
   "id": "92da5a82-1eb5-4cf8-be79-feae414f1c70",
   "metadata": {},
   "source": [
    "### Filtering"
   ]
  },
  {
   "cell_type": "code",
   "execution_count": 10,
   "id": "f0434064-69d4-4222-bc44-1e94c48d03c0",
   "metadata": {},
   "outputs": [
    {
     "data": {
      "text/plain": [
       "[python, csharp, php]"
      ]
     },
     "execution_count": 10,
     "metadata": {},
     "output_type": "execute_result"
    }
   ],
   "source": [
    "import java.util.stream.Collectors;\n",
    "\n",
    "list.stream().filter(element -> element.contains(\"p\")).collect(Collectors.toList());"
   ]
  },
  {
   "cell_type": "markdown",
   "id": "43fdb643-c096-4dab-98e3-2c0fe8cc72f8",
   "metadata": {},
   "source": [
    "### Mapping"
   ]
  },
  {
   "cell_type": "code",
   "execution_count": 11,
   "id": "ff69a211-b565-47cc-af17-69374ebd7b2c",
   "metadata": {},
   "outputs": [
    {
     "data": {
      "text/plain": [
       "[PYTHON, JAVA, CSHARP, PHP]"
      ]
     },
     "execution_count": 11,
     "metadata": {},
     "output_type": "execute_result"
    }
   ],
   "source": [
    "list.stream().map(element -> element.toUpperCase()).collect(Collectors.toList());"
   ]
  },
  {
   "cell_type": "markdown",
   "id": "dda0be75-4c26-48dc-b6f0-216e408aae26",
   "metadata": {},
   "source": [
    "`.flatMap()` and `.map()`"
   ]
  },
  {
   "cell_type": "markdown",
   "id": "60830f7c-a429-4dc6-9d2c-ac902b4a37df",
   "metadata": {},
   "source": [
    "### Matching"
   ]
  },
  {
   "cell_type": "code",
   "execution_count": 12,
   "id": "2e4a00f8-2cc4-4f13-8095-e8862cbd10f2",
   "metadata": {},
   "outputs": [
    {
     "data": {
      "text/plain": [
       "true"
      ]
     },
     "execution_count": 12,
     "metadata": {},
     "output_type": "execute_result"
    }
   ],
   "source": [
    "list.stream().anyMatch(e -> e.contains(\"p\"))"
   ]
  },
  {
   "cell_type": "code",
   "execution_count": 13,
   "id": "00b26480-7909-4e88-8356-f49bf2780421",
   "metadata": {},
   "outputs": [
    {
     "data": {
      "text/plain": [
       "false"
      ]
     },
     "execution_count": 13,
     "metadata": {},
     "output_type": "execute_result"
    }
   ],
   "source": [
    "list.stream().allMatch(e -> e.contains(\"p\"));"
   ]
  },
  {
   "cell_type": "code",
   "execution_count": 14,
   "id": "d8092bfe-5c58-4bbb-acbb-7defa88d2b3e",
   "metadata": {},
   "outputs": [
    {
     "data": {
      "text/plain": [
       "true"
      ]
     },
     "execution_count": 14,
     "metadata": {},
     "output_type": "execute_result"
    }
   ],
   "source": [
    "list.stream().noneMatch(e -> e.contains(\"w\"));"
   ]
  },
  {
   "cell_type": "markdown",
   "id": "30121d62-1065-40b1-890e-c3f966d88367",
   "metadata": {},
   "source": [
    "For empty streams, the `.allMatch()` method with any given predicate will return `true`"
   ]
  },
  {
   "cell_type": "code",
   "execution_count": 15,
   "id": "8464703c-6d0c-4e60-9e5e-b5a4bb6f4a7f",
   "metadata": {},
   "outputs": [
    {
     "data": {
      "text/plain": [
       "true"
      ]
     },
     "execution_count": 15,
     "metadata": {},
     "output_type": "execute_result"
    }
   ],
   "source": [
    "Stream.empty().allMatch(Objects::nonNull);"
   ]
  },
  {
   "cell_type": "markdown",
   "id": "b4623f8e-6fa2-431a-ba0e-b6a23757cacb",
   "metadata": {},
   "source": [
    "`.anyMatch()` method always returns `false` for empty streams:"
   ]
  },
  {
   "cell_type": "code",
   "execution_count": 16,
   "id": "6d2089ce-b869-4898-900a-1bb25421b40a",
   "metadata": {},
   "outputs": [
    {
     "data": {
      "text/plain": [
       "false"
      ]
     },
     "execution_count": 16,
     "metadata": {},
     "output_type": "execute_result"
    }
   ],
   "source": [
    "Stream.empty().anyMatch(Objects::nonNull);"
   ]
  },
  {
   "cell_type": "markdown",
   "id": "ee51995b-b018-4351-940f-1c5e71ca5125",
   "metadata": {},
   "source": [
    "## Reduction"
   ]
  },
  {
   "cell_type": "code",
   "execution_count": 17,
   "id": "2b8f38c8-db4f-46a3-ae24-f669ab5fae7c",
   "metadata": {},
   "outputs": [],
   "source": [
    "List<Integer> integers = Arrays.asList(1, 1, 1);\n",
    "Integer reduced = integers.stream().reduce(23, (a, b) -> a + b);"
   ]
  },
  {
   "cell_type": "code",
   "execution_count": 18,
   "id": "39560ea1-9785-4e7a-903a-2f1499ab7b8a",
   "metadata": {},
   "outputs": [
    {
     "data": {
      "text/plain": [
       "26"
      ]
     },
     "execution_count": 18,
     "metadata": {},
     "output_type": "execute_result"
    }
   ],
   "source": [
    "reduced"
   ]
  },
  {
   "cell_type": "markdown",
   "id": "247d2a5f-1395-47a9-8692-2c5617481859",
   "metadata": {},
   "source": [
    "## Collecting"
   ]
  },
  {
   "cell_type": "code",
   "execution_count": 19,
   "id": "9a4f5219-471a-4e9c-8588-28ed07c447dc",
   "metadata": {},
   "outputs": [
    {
     "data": {
      "text/plain": [
       "[PYTHON, CSHARP, PHP]"
      ]
     },
     "execution_count": 19,
     "metadata": {},
     "output_type": "execute_result"
    }
   ],
   "source": [
    "list.stream()\n",
    "    .filter(e -> e.contains(\"p\"))\n",
    "    .map(e -> e.toUpperCase())\n",
    "    .collect(Collectors.toList());"
   ]
  },
  {
   "cell_type": "markdown",
   "id": "355cd70b-19bc-4f0a-9d7f-ed4c6c9b3e65",
   "metadata": {},
   "source": [
    "## Generate"
   ]
  },
  {
   "cell_type": "code",
   "execution_count": 20,
   "id": "4f6c259a-8a4e-4fc7-aa29-351bccaa290b",
   "metadata": {},
   "outputs": [
    {
     "data": {
      "text/plain": [
       "41CS3NZAJ5DKZHE7YQ7Z"
      ]
     },
     "execution_count": 20,
     "metadata": {},
     "output_type": "execute_result"
    }
   ],
   "source": [
    "import java.util.Random;\n",
    "import java.util.function.Function;\n",
    "\n",
    "public class Generator {\n",
    "    private static final Random RANDOM = new Random();\n",
    "    private static final String ALLOWED_CHARACTERS = \"ABCDEFGHIJKEMNOPQRSTUVWXYZ1234567890\";\n",
    "    \n",
    "     public static String generateKey(int length) {\n",
    "        return Stream.generate(() -> ALLOWED_CHARACTERS.charAt(RANDOM.nextInt(ALLOWED_CHARACTERS.length())))\n",
    "                .limit(length)\n",
    "                .map(String::valueOf)\n",
    "                .collect(Collectors.joining());\n",
    "    }\n",
    "\n",
    "}\n",
    "\n",
    "Generator.generateKey(20);"
   ]
  },
  {
   "cell_type": "code",
   "execution_count": 21,
   "id": "c47b238d-8136-4368-8f58-5501dd06ba80",
   "metadata": {},
   "outputs": [
    {
     "data": {
      "text/plain": [
       "[1, 10, 100, 1000, 10000, 100000, 1000000, 10000000, 100000000, 1000000000]"
      ]
     },
     "execution_count": 21,
     "metadata": {},
     "output_type": "execute_result"
    }
   ],
   "source": [
    "List<Integer> list = Stream.iterate(1, n -> 10 * n)\n",
    "                            .limit(10)\n",
    "                            .collect(Collectors.toList());\n",
    "list"
   ]
  },
  {
   "cell_type": "markdown",
   "id": "f255b2d1-987e-4f87-875f-c1a9d18098e9",
   "metadata": {},
   "source": [
    "## Stream of Primitives"
   ]
  },
  {
   "cell_type": "markdown",
   "id": "63833430-ce78-487e-bac3-82ce99096fe2",
   "metadata": {},
   "source": [
    "`IntStream`, `LongStream`, `DoubleStream`."
   ]
  },
  {
   "cell_type": "markdown",
   "id": "836afa00-ebed-4c21-9231-f1c6c7ea9797",
   "metadata": {},
   "source": [
    "* Java 8 offers the possibility to create streams out of three primitive types: int, long and double. As Stream<T> is a generic interface, and there is no way to use primitives as a type parameter with generics, three new special interfaces were created: IntStream, LongStream, DoubleStream.\n",
    "* Using the new interfaces alleviates unnecessary auto-boxing, which allows for increased productivity:"
   ]
  },
  {
   "cell_type": "code",
   "execution_count": 22,
   "id": "b0ea8240-19db-4236-9142-276f125410aa",
   "metadata": {},
   "outputs": [],
   "source": [
    "import java.util.stream.IntStream;\n",
    "import java.util.stream.LongStream;\n",
    "\n",
    "IntStream intStream = IntStream.range(1, 3);\n",
    "LongStream longStream = LongStream.rangeClosed(1, 3);"
   ]
  },
  {
   "cell_type": "markdown",
   "id": "b3162b61-025c-4b0a-92b4-35eb957c078a",
   "metadata": {},
   "source": [
    "* The range(int startInclusive, int endExclusive) method creates an ordered stream from the first parameter to the second parameter. It increments the value of subsequent elements with the step equal to 1. The result doesn’t include the last parameter, it is just an upper bound of the sequence\n",
    "* \n",
    "The rangeClosed(int startInclusive, int endInclusive) method does the same thing with only one difference, the second element is included. We can use these two methods to generate any of the three types of streams of primitives"
   ]
  },
  {
   "cell_type": "markdown",
   "id": "d1997d3a-4635-49d1-b311-77ca08db9646",
   "metadata": {},
   "source": [
    "Since Java 8, the Random class provides a wide range of methods for generating streams of primitives. For example, the following code creates a DoubleStream, which has three elements:"
   ]
  },
  {
   "cell_type": "code",
   "execution_count": 23,
   "id": "183504ad-0d08-4d98-8323-793e1696f622",
   "metadata": {},
   "outputs": [],
   "source": [
    "import java.util.stream.DoubleStream;\n",
    "\n",
    "Random random = new Random();\n",
    "DoubleStream doubleStream = random.doubles(3);"
   ]
  },
  {
   "cell_type": "code",
   "execution_count": 24,
   "id": "7fa5a5e0-3c81-418e-ac2c-cc6eab717998",
   "metadata": {},
   "outputs": [
    {
     "name": "stdout",
     "output_type": "stream",
     "text": [
      "0.21644603714650434\n",
      "0.6342425859163723\n",
      "0.6483349351015105\n"
     ]
    }
   ],
   "source": [
    "doubleStream.forEach(System.out::println);"
   ]
  },
  {
   "cell_type": "markdown",
   "id": "c72a65d6-8b5d-4f04-974c-289b45924d63",
   "metadata": {},
   "source": [
    "## Stream of String"
   ]
  },
  {
   "cell_type": "code",
   "execution_count": 25,
   "id": "c8cac1fb-d35c-4588-86c3-49ed965012ab",
   "metadata": {},
   "outputs": [],
   "source": [
    "IntStream chars = \"Hello!\".chars();"
   ]
  },
  {
   "cell_type": "code",
   "execution_count": 26,
   "id": "4b8970a2-b8b5-46f1-bc87-a4df061bdfd4",
   "metadata": {},
   "outputs": [
    {
     "name": "stdout",
     "output_type": "stream",
     "text": [
      "72\n",
      "101\n",
      "108\n",
      "108\n",
      "111\n",
      "33\n"
     ]
    }
   ],
   "source": [
    "chars.forEach(System.out::println);"
   ]
  },
  {
   "cell_type": "code",
   "execution_count": 27,
   "id": "5317048c-b225-487e-b332-b2c41722ba8b",
   "metadata": {},
   "outputs": [
    {
     "name": "stdout",
     "output_type": "stream",
     "text": [
      "H\n",
      "e\n",
      "l\n",
      "l\n",
      "o\n"
     ]
    }
   ],
   "source": [
    "Stream.of(\"Hello\".split(\"\")).forEach(System.out::println); // string, not character"
   ]
  },
  {
   "cell_type": "markdown",
   "id": "84b5f306-2a25-4028-b98a-c3707e92ebe6",
   "metadata": {},
   "source": [
    "## Stream of file"
   ]
  },
  {
   "cell_type": "code",
   "execution_count": 28,
   "id": "a02a37f5-2dd3-49a5-be42-43bfef1158d8",
   "metadata": {},
   "outputs": [],
   "source": [
    "import java.nio.charset.Charset;\n",
    "import java.nio.file.Files;\n",
    "import java.nio.file.Path;\n",
    "import java.nio.file.Paths;\n",
    "import java.util.stream.Stream;\n",
    "\n",
    "Path path = Paths.get(\"./README.md\");\n",
    "Stream<String> streamOfStrings = Files.lines(path);\n",
    "Stream<String> streamWithCharset = Files.lines(path, Charset.forName(\"UTF-8\"));"
   ]
  },
  {
   "cell_type": "code",
   "execution_count": 29,
   "id": "768ad14c-9b63-4d68-b265-88a246fca8ed",
   "metadata": {},
   "outputs": [
    {
     "data": {
      "text/plain": [
       "[by Ye Wen Zi]"
      ]
     },
     "execution_count": 29,
     "metadata": {},
     "output_type": "execute_result"
    }
   ],
   "source": [
    "streamOfStrings.collect(Collectors.toList());"
   ]
  },
  {
   "cell_type": "markdown",
   "id": "2023c3b4-51f3-4ee6-856c-929459d98a96",
   "metadata": {},
   "source": [
    "## Stream pipeline"
   ]
  },
  {
   "cell_type": "code",
   "execution_count": 30,
   "id": "134ed5d2-1605-4e1b-9ddb-a6d2c16822c7",
   "metadata": {},
   "outputs": [
    {
     "data": {
      "text/plain": [
       "[PYTHON, PHP]"
      ]
     },
     "execution_count": 30,
     "metadata": {},
     "output_type": "execute_result"
    }
   ],
   "source": [
    "Stream.of(\"java\", \"python\", \"php\").skip(1).map(String::toUpperCase).collect(Collectors.toList());"
   ]
  },
  {
   "cell_type": "markdown",
   "id": "09896955-cba3-4bf4-9579-a76219f3787f",
   "metadata": {},
   "source": [
    "## Reduce"
   ]
  },
  {
   "cell_type": "code",
   "execution_count": 31,
   "id": "9667dc23-6523-415b-ac2d-68cc94a97bf2",
   "metadata": {},
   "outputs": [
    {
     "data": {
      "text/plain": [
       "240"
      ]
     },
     "execution_count": 31,
     "metadata": {},
     "output_type": "execute_result"
    }
   ],
   "source": [
    "Stream.of(1, 2, 3, 4).reduce(10, (a, b) -> a * b);"
   ]
  },
  {
   "cell_type": "markdown",
   "id": "c8d6e37d-6a20-4f94-80ef-e1dd70db2527",
   "metadata": {},
   "source": [
    "## Collect"
   ]
  },
  {
   "cell_type": "code",
   "execution_count": 45,
   "id": "a662ab53-ed48-48d0-994e-e6951f3fc10b",
   "metadata": {},
   "outputs": [],
   "source": [
    "public class Product {\n",
    "    private String name;\n",
    "    private int price;\n",
    "\n",
    "    // Mo agr constructor....\n",
    "    \n",
    "    public Product(String name, int price) {\n",
    "        this.name = name;\n",
    "        this.price = price;\n",
    "    }\n",
    "\n",
    "    public String getName() {\n",
    "        return name;\n",
    "    }\n",
    "\n",
    "    public int getPrice() {\n",
    "        return price;\n",
    "    }\n",
    "\n",
    "    // setter...\n",
    "\n",
    "    @Override\n",
    "    public String toString() {\n",
    "        return \"\"\"\n",
    "            { \"name\": %s, \"price\": %d }\"\"\".formatted(name, price);\n",
    "    }\n",
    "}"
   ]
  },
  {
   "cell_type": "code",
   "execution_count": 46,
   "id": "82532385-18f3-440d-9301-9d89aed0c3a3",
   "metadata": {},
   "outputs": [
    {
     "data": {
      "text/plain": [
       "true"
      ]
     },
     "execution_count": 46,
     "metadata": {},
     "output_type": "execute_result"
    }
   ],
   "source": [
    "List<Product> products = new ArrayList<>();\n",
    "\n",
    "products.add(new Product(\"Book\", 10));\n",
    "products.add(new Product(\"Pen\", 15));\n",
    "products.add(new Product(\"Ruler\", 15));"
   ]
  },
  {
   "cell_type": "code",
   "execution_count": 47,
   "id": "51971d24-fea2-4e71-a439-a6148dd34ed3",
   "metadata": {},
   "outputs": [
    {
     "data": {
      "text/plain": [
       "[Book, Pen, Ruler]"
      ]
     },
     "execution_count": 47,
     "metadata": {},
     "output_type": "execute_result"
    }
   ],
   "source": [
    "products.stream().map(Product::getName).collect(Collectors.toList());"
   ]
  },
  {
   "cell_type": "code",
   "execution_count": 48,
   "id": "a8db36d9-e0d7-472f-a90d-3e64619f508c",
   "metadata": {},
   "outputs": [
    {
     "data": {
      "text/plain": [
       "{Book,Pen,Ruler}"
      ]
     },
     "execution_count": 48,
     "metadata": {},
     "output_type": "execute_result"
    }
   ],
   "source": [
    "products.stream().map(Product::getName).collect(Collectors.joining(\",\", \"{\", \"}\"));"
   ]
  },
  {
   "cell_type": "markdown",
   "id": "9ab9c8b3-e6b1-4db6-a669-82b6989bdc95",
   "metadata": {},
   "source": [
    "The methods `averagingXX()`, `summingXX()` and `summarizingXX()` can work with primitives (`int`, `long`, `double`) and with their wrapper classes (`Integer`, `Long`, `Double`). One more powerful feature of these methods is providing the mapping. As a result, the developer doesn’t need to use an additional `map()` operation before the `collect()` method"
   ]
  },
  {
   "cell_type": "code",
   "execution_count": 49,
   "id": "353d7dad-e3df-4610-a8df-e26cc83326f1",
   "metadata": {},
   "outputs": [
    {
     "data": {
      "text/plain": [
       "13.333333333333334"
      ]
     },
     "execution_count": 49,
     "metadata": {},
     "output_type": "execute_result"
    }
   ],
   "source": [
    "products.stream().collect(Collectors.averagingInt(Product::getPrice));"
   ]
  },
  {
   "cell_type": "code",
   "execution_count": 50,
   "id": "6220c46c-841a-4623-89a7-47f4078d1f43",
   "metadata": {},
   "outputs": [
    {
     "data": {
      "text/plain": [
       "40"
      ]
     },
     "execution_count": 50,
     "metadata": {},
     "output_type": "execute_result"
    }
   ],
   "source": [
    "products.stream().collect(Collectors.summingInt(Product::getPrice));"
   ]
  },
  {
   "cell_type": "code",
   "execution_count": 51,
   "id": "c30ecf1f-cd45-41a2-8f73-fbb2219611a9",
   "metadata": {},
   "outputs": [
    {
     "data": {
      "text/plain": [
       "IntSummaryStatistics{count=3, sum=40, min=10, average=13.333333, max=15}"
      ]
     },
     "execution_count": 51,
     "metadata": {},
     "output_type": "execute_result"
    }
   ],
   "source": [
    "products.stream().collect(Collectors.summarizingInt(Product::getPrice));"
   ]
  },
  {
   "cell_type": "code",
   "execution_count": 52,
   "id": "f038eaaa-e467-4273-a50a-5a9e801afae7",
   "metadata": {},
   "outputs": [
    {
     "name": "stdout",
     "output_type": "stream",
     "text": [
      "{ \"name\": Pen, \"price\": 15 }"
     ]
    }
   ],
   "source": [
    "import java.util.Comparator;\n",
    "\n",
    "// Optional<Product> maxPriceProduct = products.stream().max(Comparator.comparingInt(p -> p.getPrice()));\n",
    "Optional<Product> maxPriceProduct = products.stream().max(Comparator.comparingInt(Product::getPrice));\n",
    "\n",
    "// maxPriceProduct.ifPresent(p -> System.out.print(p.getName()));\n",
    "maxPriceProduct.ifPresent(System.out::print);"
   ]
  },
  {
   "cell_type": "code",
   "execution_count": 56,
   "id": "97e1e847-98f9-4580-b173-36be2b3998ec",
   "metadata": {},
   "outputs": [
    {
     "data": {
      "text/plain": [
       "{ \"name\": Pen, \"price\": 15 }"
      ]
     },
     "execution_count": 56,
     "metadata": {},
     "output_type": "execute_result"
    }
   ],
   "source": [
    "Collections.max(products, Comparator.comparingInt(Product::getPrice));"
   ]
  },
  {
   "cell_type": "markdown",
   "id": "f5a65220-a269-438f-a3ae-27412605b309",
   "metadata": {},
   "source": [
    "`min()`"
   ]
  },
  {
   "cell_type": "markdown",
   "id": "e29bad53-4f17-4205-9040-9db9a2e80488",
   "metadata": {},
   "source": [
    "## Grouping of stream’s elements according to the specified function"
   ]
  },
  {
   "cell_type": "code",
   "execution_count": 54,
   "id": "793af389-eb1c-4d74-ac46-8151ed6b0a4f",
   "metadata": {},
   "outputs": [],
   "source": [
    "Map<Integer, List<Product>> productsPerPrice = products.stream().collect(Collectors.groupingBy(Product::getPrice))"
   ]
  },
  {
   "cell_type": "code",
   "execution_count": 55,
   "id": "c67974f4-c482-42a8-bf06-a43bc592a1a7",
   "metadata": {},
   "outputs": [
    {
     "name": "stdout",
     "output_type": "stream",
     "text": [
      "[{ \"name\": Book, \"price\": 10 }]\n",
      "[{ \"name\": Pen, \"price\": 15 }, { \"name\": Ruler, \"price\": 15 }]\n"
     ]
    }
   ],
   "source": [
    "productsPerPrice.forEach((k, v) -> System.out.println(v))"
   ]
  },
  {
   "cell_type": "code",
   "execution_count": 57,
   "id": "e78cbae3-c4cb-4958-a8d8-a19198a537a8",
   "metadata": {},
   "outputs": [
    {
     "name": "stdout",
     "output_type": "stream",
     "text": [
      "10\n",
      "15\n"
     ]
    }
   ],
   "source": [
    "productsPerPrice.forEach((k, v) -> System.out.println(k))"
   ]
  },
  {
   "cell_type": "markdown",
   "id": "eb9d3573-cbf8-4452-aa26-bd68823b4283",
   "metadata": {},
   "source": [
    "## Dividing stream’s elements into groups according to some predicate:"
   ]
  },
  {
   "cell_type": "code",
   "execution_count": 61,
   "id": "d4ad3e76-5e0f-4c2e-9249-003b16d67f72",
   "metadata": {},
   "outputs": [],
   "source": [
    "Map<Boolean, List<Product>> mapPartioned = products.stream()\n",
    "  .collect(Collectors.partitioningBy(element -> element.getPrice() > 12));"
   ]
  },
  {
   "cell_type": "code",
   "execution_count": 62,
   "id": "26bdfe9b-cbd5-46db-81b7-d5291d3b09c9",
   "metadata": {},
   "outputs": [
    {
     "name": "stdout",
     "output_type": "stream",
     "text": [
      "false\n",
      "true\n"
     ]
    }
   ],
   "source": [
    "mapPartioned.forEach((k, v) -> System.out.println(k))"
   ]
  },
  {
   "cell_type": "code",
   "execution_count": 63,
   "id": "53ed490f-7e6d-4aa1-bc1d-47c8475d1c45",
   "metadata": {},
   "outputs": [
    {
     "name": "stdout",
     "output_type": "stream",
     "text": [
      "[{ \"name\": Book, \"price\": 10 }]\n",
      "[{ \"name\": Pen, \"price\": 15 }, { \"name\": Ruler, \"price\": 15 }]\n"
     ]
    }
   ],
   "source": [
    "mapPartioned.forEach((k, v) -> System.out.println(v))"
   ]
  },
  {
   "cell_type": "code",
   "execution_count": null,
   "id": "64245da9-8745-4bf0-b32b-6e6d76c5d3ba",
   "metadata": {},
   "outputs": [],
   "source": []
  },
  {
   "cell_type": "code",
   "execution_count": null,
   "id": "aec0a2af-0110-488c-9997-84d2855571ea",
   "metadata": {},
   "outputs": [],
   "source": []
  }
 ],
 "metadata": {
  "kernelspec": {
   "display_name": "Java",
   "language": "java",
   "name": "java"
  },
  "language_info": {
   "codemirror_mode": "java",
   "file_extension": ".jshell",
   "mimetype": "text/x-java-source",
   "name": "Java",
   "pygments_lexer": "java",
   "version": "17.0.7+8-LTS-224"
  }
 },
 "nbformat": 4,
 "nbformat_minor": 5
}
