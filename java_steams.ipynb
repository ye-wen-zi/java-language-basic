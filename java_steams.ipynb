{
 "cells": [
  {
   "cell_type": "markdown",
   "id": "ed6d6695-de15-4fff-ba56-4f1de42a56df",
   "metadata": {},
   "source": [
    "# Stream"
   ]
  },
  {
   "cell_type": "markdown",
   "id": "69bb55c9-0d5b-4834-84b9-7c1c76f94349",
   "metadata": {},
   "source": [
    "## Stream creation"
   ]
  },
  {
   "cell_type": "code",
   "execution_count": 16,
   "id": "74e314a2-c4cc-4fe2-93bf-5400f5c24290",
   "metadata": {},
   "outputs": [],
   "source": [
    "import java.util.stream.Stream;"
   ]
  },
  {
   "cell_type": "code",
   "execution_count": 17,
   "id": "87e40b6f-3179-4ccf-bf33-78298be5fc9a",
   "metadata": {},
   "outputs": [],
   "source": [
    "String[] arr = new String[] {\"python\", \"java\", \"csharp\", \"php\"};"
   ]
  },
  {
   "cell_type": "code",
   "execution_count": 18,
   "id": "187002ac-c325-4184-9ed4-30a6a1d2cc64",
   "metadata": {},
   "outputs": [],
   "source": [
    "// Arrays.stream()\n",
    "Stream<String> stream_ = Arrays.stream(arr);"
   ]
  },
  {
   "cell_type": "code",
   "execution_count": 19,
   "id": "8437ec2e-ffcf-4c5d-b202-f7f8eb7edd95",
   "metadata": {},
   "outputs": [],
   "source": [
    "// Stream.of()\n",
    "stream_ = Stream.of(arr);"
   ]
  },
  {
   "cell_type": "code",
   "execution_count": 20,
   "id": "107bc618-582c-49e1-8a5a-3d316e0a95d8",
   "metadata": {},
   "outputs": [],
   "source": [
    "List<String> list = Arrays.asList(arr);\n",
    "stream_ = list.stream();"
   ]
  },
  {
   "cell_type": "code",
   "execution_count": 21,
   "id": "ca8fbce4-7f7a-4151-9214-0633229eb57d",
   "metadata": {},
   "outputs": [
    {
     "name": "stdout",
     "output_type": "stream",
     "text": [
      "python\n",
      "java\n",
      "csharp\n",
      "php\n"
     ]
    }
   ],
   "source": [
    "stream_.forEach(System.out::println)"
   ]
  },
  {
   "cell_type": "markdown",
   "id": "44a76517-eeeb-4be6-9f3c-e1f557d139b7",
   "metadata": {},
   "source": [
    "## Stream Operations"
   ]
  },
  {
   "cell_type": "code",
   "execution_count": 25,
   "id": "01923e6c-74f6-494e-9d64-c76fa101cec1",
   "metadata": {},
   "outputs": [
    {
     "data": {
      "text/plain": [
       "4"
      ]
     },
     "execution_count": 25,
     "metadata": {},
     "output_type": "execute_result"
    }
   ],
   "source": [
    "list.stream().distinct().count();"
   ]
  },
  {
   "cell_type": "markdown",
   "id": "096ae4b4-e9d2-43f1-a5c8-19004f90b5c2",
   "metadata": {},
   "source": [
    "### Iterating"
   ]
  },
  {
   "cell_type": "code",
   "execution_count": 26,
   "id": "acd57a0c-b9b7-4a7b-8a25-7eb0ff1d44ae",
   "metadata": {},
   "outputs": [
    {
     "data": {
      "text/plain": [
       "true"
      ]
     },
     "execution_count": 26,
     "metadata": {},
     "output_type": "execute_result"
    }
   ],
   "source": [
    "list.stream().anyMatch(item -> item.contains(\"py\"))"
   ]
  },
  {
   "cell_type": "markdown",
   "id": "92da5a82-1eb5-4cf8-be79-feae414f1c70",
   "metadata": {},
   "source": [
    "### Filtering"
   ]
  },
  {
   "cell_type": "code",
   "execution_count": 27,
   "id": "f0434064-69d4-4222-bc44-1e94c48d03c0",
   "metadata": {},
   "outputs": [
    {
     "data": {
      "text/plain": [
       "[python, csharp, php]"
      ]
     },
     "execution_count": 27,
     "metadata": {},
     "output_type": "execute_result"
    }
   ],
   "source": [
    "import java.util.stream.Collectors;\n",
    "\n",
    "list.stream().filter(element -> element.contains(\"p\")).collect(Collectors.toList());"
   ]
  },
  {
   "cell_type": "markdown",
   "id": "43fdb643-c096-4dab-98e3-2c0fe8cc72f8",
   "metadata": {},
   "source": [
    "### Mapping"
   ]
  },
  {
   "cell_type": "code",
   "execution_count": 28,
   "id": "ff69a211-b565-47cc-af17-69374ebd7b2c",
   "metadata": {},
   "outputs": [
    {
     "data": {
      "text/plain": [
       "[PYTHON, JAVA, CSHARP, PHP]"
      ]
     },
     "execution_count": 28,
     "metadata": {},
     "output_type": "execute_result"
    }
   ],
   "source": [
    "list.stream().map(element -> element.toUpperCase()).collect(Collectors.toList());"
   ]
  },
  {
   "cell_type": "markdown",
   "id": "dda0be75-4c26-48dc-b6f0-216e408aae26",
   "metadata": {},
   "source": [
    "`.flatMap()` and `.map()`"
   ]
  },
  {
   "cell_type": "markdown",
   "id": "60830f7c-a429-4dc6-9d2c-ac902b4a37df",
   "metadata": {},
   "source": [
    "### Matching"
   ]
  },
  {
   "cell_type": "code",
   "execution_count": null,
   "id": "2e4a00f8-2cc4-4f13-8095-e8862cbd10f2",
   "metadata": {},
   "outputs": [],
   "source": []
  }
 ],
 "metadata": {
  "kernelspec": {
   "display_name": "Java",
   "language": "java",
   "name": "java"
  },
  "language_info": {
   "codemirror_mode": "java",
   "file_extension": ".jshell",
   "mimetype": "text/x-java-source",
   "name": "Java",
   "pygments_lexer": "java",
   "version": "17.0.7+8-LTS-224"
  }
 },
 "nbformat": 4,
 "nbformat_minor": 5
}
