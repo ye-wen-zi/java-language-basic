{
 "cells": [
  {
   "cell_type": "markdown",
   "id": "821896c8-340f-45f5-8a4f-44ecae13ff30",
   "metadata": {},
   "source": [
    "# Java OOP"
   ]
  },
  {
   "cell_type": "markdown",
   "id": "fff60eaf-0050-4c44-9989-8d09544e7ad2",
   "metadata": {},
   "source": [
    "## Class"
   ]
  },
  {
   "cell_type": "markdown",
   "id": "c5016e6d-566b-43e6-9bba-76cfb5890327",
   "metadata": {},
   "source": [
    "The JLS makes a recommendation for specifying class modifiers:\n",
    "* Annotation\n",
    "* public/protected/private\n",
    "* abstract\n",
    "* static\n",
    "* final\n",
    "* strictfp"
   ]
  },
  {
   "cell_type": "markdown",
   "id": "04c58bd0-f682-4b22-92db-f9c003ccee0f",
   "metadata": {},
   "source": [
    "The canonical order applies to the field, methods, classes, and modules. Here’s a customary recommendation for field modifiers:\n",
    "* Annotation\n",
    "* public/protected/private\n",
    "* static\n",
    "* final\n",
    "* transient\n",
    "* volatile"
   ]
  },
  {
   "cell_type": "markdown",
   "id": "35520d6c-7884-4bd8-b8d5-89e6855766d5",
   "metadata": {},
   "source": [
    "Finally, here’s the canonical order of modifiers for method declaration as recommended by JLS:\n",
    "\n",
    "* Annotation\n",
    "* public/protected/private\n",
    "* abstract\n",
    "* static\n",
    "* final\n",
    "* synchronized\n",
    "* native\n",
    "* strictfp"
   ]
  },
  {
   "cell_type": "markdown",
   "id": "61e7813d-88b0-4c96-9d92-5a37daebccb4",
   "metadata": {},
   "source": [
    "Notice, that we now use the final keyword when defining the members of the class. This means that each of those members can only be initialized within the constructor of the class. They cannot be reassigned later on inside any other method. We can read those values, but not change them."
   ]
  },
  {
   "cell_type": "markdown",
   "id": "e637df85-4b8f-4f3e-abc0-504aacadd7eb",
   "metadata": {},
   "source": [
    "## Interface"
   ]
  },
  {
   "cell_type": "markdown",
   "id": "1527144d-7fb3-4023-8a13-2d897ad9e749",
   "metadata": {},
   "source": [
    "In an interface, we’re allowed to use:\n",
    "* constants variables\n",
    "* abstract methods\n",
    "* static methods\n",
    "* default methods"
   ]
  },
  {
   "cell_type": "markdown",
   "id": "592bc2b3-95e2-4224-8580-8f309f1d02d7",
   "metadata": {},
   "source": [
    "## Inheritance"
   ]
  },
  {
   "cell_type": "markdown",
   "id": "d34fd09e-c3b7-407b-b783-ed685ce89647",
   "metadata": {},
   "source": [
    "A subclass class inherits the non-static protected and public members from the superclass class. In addition, the members with default (package-private) access are inherited if the two classes are in the same package.\n",
    "\n",
    "On the other hand, the private and static members of a class are not inherited."
   ]
  },
  {
   "cell_type": "markdown",
   "id": "dc7d1a85-8d3b-4cda-8812-c40f5a9bf124",
   "metadata": {},
   "source": [
    "## Overload and Override"
   ]
  },
  {
   "cell_type": "markdown",
   "id": "629291a5-1110-4ed4-b691-6866e0c5f7f4",
   "metadata": {},
   "source": [
    "Simply put, we can implement method overloading in two different ways:\n",
    "\n",
    "* implementing two or more methods that have the same name but take different numbers of arguments\n",
    "* implementing two or more methods that have the same name but take arguments of different types\n",
    "* it’s not possible to have two method implementations that differ only in their return types."
   ]
  },
  {
   "cell_type": "markdown",
   "id": "4c46d9f9-89e3-475d-b432-cfca527c13b8",
   "metadata": {},
   "source": [
    "## Static keyword"
   ]
  },
  {
   "cell_type": "markdown",
   "id": "64c69288-2d20-4373-aeea-71af2682da1c",
   "metadata": {},
   "source": [
    "The same as for static fields, static methods can’t be overridden. This is because static methods in Java are resolved at compile time, while method overriding is part of Runtime Polymorphism."
   ]
  },
  {
   "cell_type": "markdown",
   "id": "0a2b51cd-e807-49cc-b65c-84750336faf6",
   "metadata": {},
   "source": [
    "The following combinations of the instance, class methods, and variables are valid:\n",
    "\n",
    "* instance methods can directly access both instance methods and instance variables\n",
    "* instance methods can also access static variables and static methods directly\n",
    "* static methods can access all static variables and other static methods\n",
    "* static methods can’t access instance variables and instance methods directly. They need some object reference to do so."
   ]
  },
  {
   "cell_type": "markdown",
   "id": "293e2799-dfad-4076-929a-d11d3a6d8316",
   "metadata": {},
   "source": [
    "Generally, we’ll initialize static variables directly during declaration. However, if the static variables require multi-statement logic during initialization we can use a static block instead."
   ]
  },
  {
   "cell_type": "code",
   "execution_count": 7,
   "id": "7ad6eaea-3048-48ba-9c41-d90b044f7188",
   "metadata": {},
   "outputs": [],
   "source": [
    "public class StaticBlockExample {\n",
    "    public static List<String> languages = new LinkList<>();\n",
    "\n",
    "    static {\n",
    "        languages.add(\"JavaScript\");\n",
    "        languages.add(\"Python\");\n",
    "    }\n",
    "\n",
    "    static {\n",
    "        languages.add(\"Java\");\n",
    "    }\n",
    "}\n"
   ]
  },
  {
   "cell_type": "markdown",
   "id": "bc91b2c2-9c84-4be4-bddd-f9c614165975",
   "metadata": {},
   "source": [
    "## Enum"
   ]
  },
  {
   "cell_type": "markdown",
   "id": "3a6f9d0f-6fb5-489d-8ea3-92ae0f0ce180",
   "metadata": {},
   "source": [
    "[A guide to java Enums](https://www.baeldung.com/a-guide-to-java-enums)"
   ]
  },
  {
   "cell_type": "markdown",
   "id": "699db308-04db-4dff-93f1-0c8728bdb16a",
   "metadata": {},
   "source": [
    "## Optional"
   ]
  },
  {
   "cell_type": "code",
   "execution_count": 15,
   "id": "ee102456-a87d-4c09-abef-ddc0e38d92aa",
   "metadata": {},
   "outputs": [],
   "source": [
    "Optional<String> empty = Optional.empty();"
   ]
  },
  {
   "cell_type": "code",
   "execution_count": 32,
   "id": "9adbf8a0-5a81-4696-9604-9d764e88c656",
   "metadata": {},
   "outputs": [
    {
     "name": "stdout",
     "output_type": "stream",
     "text": [
      "Do something!"
     ]
    }
   ],
   "source": [
    "String name = \"Ye Wen Zi\";\n",
    "Optional<String> opt = Optional.ofNullable(name);\n",
    "\n",
    "if(!opt.isEmpty()) {\n",
    "    System.out.print(\"Do something!\");\n",
    "}\n",
    "\n",
    "// !opt.isEmpty() == opt.isPresent()"
   ]
  },
  {
   "cell_type": "code",
   "execution_count": 33,
   "id": "e89b69f3-9477-48c1-af5b-4279595b9507",
   "metadata": {},
   "outputs": [
    {
     "name": "stdout",
     "output_type": "stream",
     "text": [
      "Ye Wen Zi"
     ]
    }
   ],
   "source": [
    "opt.ifPresent(System.out::print);"
   ]
  },
  {
   "cell_type": "code",
   "execution_count": 34,
   "id": "ed62c0f2-abed-4b39-8b6d-03fb76af664d",
   "metadata": {},
   "outputs": [
    {
     "name": "stdout",
     "output_type": "stream",
     "text": [
      "Ye Wen Zi"
     ]
    }
   ],
   "source": [
    "opt.ifPresent(name -> System.out.print(name));"
   ]
  },
  {
   "cell_type": "code",
   "execution_count": 35,
   "id": "7c09fa7b-9e61-4efa-b58c-fabc9f13be11",
   "metadata": {},
   "outputs": [
    {
     "data": {
      "text/plain": [
       "Ye Wen Zi"
      ]
     },
     "execution_count": 35,
     "metadata": {},
     "output_type": "execute_result"
    }
   ],
   "source": [
    "String myName = opt.orElse(\"No name!\");\n",
    "myName;"
   ]
  },
  {
   "cell_type": "code",
   "execution_count": 40,
   "id": "1d514262-890b-478f-8f27-9b5ef536b151",
   "metadata": {},
   "outputs": [
    {
     "data": {
      "text/plain": [
       "Ye Wen Zi"
      ]
     },
     "execution_count": 40,
     "metadata": {},
     "output_type": "execute_result"
    }
   ],
   "source": [
    "opt.orElseGet(() -> \"No name!\");"
   ]
  },
  {
   "cell_type": "markdown",
   "id": "b3a5ca10-3cda-4af6-b953-83cf08efc02d",
   "metadata": {},
   "source": [
    "```java\n",
    "orElse != orElseGet\n",
    "```"
   ]
  },
  {
   "cell_type": "code",
   "execution_count": 44,
   "id": "3db4060c-b921-410f-b382-c2cd3ae5705d",
   "metadata": {},
   "outputs": [
    {
     "ename": "EvalException",
     "evalue": "No value present",
     "output_type": "error",
     "traceback": [
      "\u001b[1m\u001b[31m---------------------------------------------------------------------------\u001b[0m",
      "\u001b[1m\u001b[31mjava.util.NoSuchElementException: No value present\u001b[0m",
      "\u001b[1m\u001b[31m\tat java.base/java.util.Optional.get(Optional.java:143)\u001b[0m",
      "\u001b[1m\u001b[31m\tat .(#50:1)\u001b[0m"
     ]
    }
   ],
   "source": [
    "Optional.ofNullable(null).get();"
   ]
  },
  {
   "cell_type": "code",
   "execution_count": 49,
   "id": "40a9c214-09f4-43f0-a6bc-2711b4bd8360",
   "metadata": {},
   "outputs": [
    {
     "ename": "EvalException",
     "evalue": "No value present",
     "output_type": "error",
     "traceback": [
      "\u001b[1m\u001b[31m---------------------------------------------------------------------------\u001b[0m",
      "\u001b[1m\u001b[31mjava.util.NoSuchElementException: No value present\u001b[0m",
      "\u001b[1m\u001b[31m\tat java.base/java.util.Optional.orElseThrow(Optional.java:377)\u001b[0m",
      "\u001b[1m\u001b[31m\tat .(#55:1)\u001b[0m"
     ]
    }
   ],
   "source": [
    "Optional.ofNullable(null).orElseThrow();"
   ]
  },
  {
   "cell_type": "code",
   "execution_count": 50,
   "id": "664ce15d-4df7-4648-9ab1-ea230dbad552",
   "metadata": {},
   "outputs": [
    {
     "name": "stdout",
     "output_type": "stream",
     "text": [
      "Ye Wen Zi"
     ]
    }
   ],
   "source": [
    "if(!opt.isEmpty()) {\n",
    "    System.out.print(opt.get());\n",
    "}"
   ]
  },
  {
   "cell_type": "code",
   "execution_count": 61,
   "id": "138c71a8-4529-4988-b2b2-43bf6e1a517a",
   "metadata": {},
   "outputs": [
    {
     "name": "stdout",
     "output_type": "stream",
     "text": [
      "Ye Wen Zi"
     ]
    }
   ],
   "source": [
    "Optional.ofNullable(\"Ye Wen Zi\").ifPresentOrElse(\n",
    "    System.out::print,\n",
    "    () -> System.out.print(\"Nothing!\")\n",
    ");"
   ]
  },
  {
   "cell_type": "code",
   "execution_count": 62,
   "id": "ba5ff3bf-7a17-4091-be8b-39fe371a0dc9",
   "metadata": {},
   "outputs": [
    {
     "name": "stdout",
     "output_type": "stream",
     "text": [
      "Nothing!"
     ]
    }
   ],
   "source": [
    "Optional.ofNullable(null).ifPresentOrElse(\n",
    "    System.out::print,\n",
    "    () -> System.out.print(\"Nothing!\")\n",
    ");"
   ]
  },
  {
   "cell_type": "markdown",
   "id": "3077ced6-5903-4493-82ac-94fdb1794856",
   "metadata": {},
   "source": [
    "**Some other methods: `map`, `filter`, `flatMap`, `or`**"
   ]
  },
  {
   "cell_type": "markdown",
   "id": "b47b33d5-64a3-4f5e-9f5f-160fc025bde9",
   "metadata": {},
   "source": [
    "## Equals - Hashcode"
   ]
  },
  {
   "cell_type": "code",
   "execution_count": 76,
   "id": "ea41bc0a-60c0-4f3e-8978-7d26e21fd3b3",
   "metadata": {},
   "outputs": [
    {
     "data": {
      "text/plain": [
       "false"
      ]
     },
     "execution_count": 76,
     "metadata": {},
     "output_type": "execute_result"
    }
   ],
   "source": [
    "public class Money {\n",
    "    private int amount;\n",
    "    private String currencyCode;\n",
    "\n",
    "    public Money(int amount, String currencyCode) {\n",
    "        this.amount = amount;\n",
    "        this.currencyCode = currencyCode;\n",
    "    }\n",
    "}\n",
    "\n",
    "Money income = new Money(55, \"USD\");\n",
    "Money expenses = new Money(55, \"USD\");\n",
    "\n",
    "Objects.equals(income, expenses);"
   ]
  },
  {
   "cell_type": "markdown",
   "id": "e4eb47c8-9146-4ed1-9adc-592d2f56a235",
   "metadata": {},
   "source": [
    "The default implementation of equals() in the Object class compares the identity of the object. In our example, the income and expenses instances of the Money class have two different identities. Therefore, comparing them with the .equals() method returns false."
   ]
  },
  {
   "cell_type": "code",
   "execution_count": 84,
   "id": "2245a71e-770a-4f2b-9603-17e7344ed53e",
   "metadata": {},
   "outputs": [
    {
     "data": {
      "text/plain": [
       "true"
      ]
     },
     "execution_count": 84,
     "metadata": {},
     "output_type": "execute_result"
    }
   ],
   "source": [
    "public class Money {\n",
    "    private int amount;\n",
    "    private String currencyCode;\n",
    "\n",
    "    public Money(int amount, String currencyCode) {\n",
    "        this.amount = amount;\n",
    "        this.currencyCode = currencyCode;\n",
    "    }\n",
    "\n",
    "    @Override\n",
    "    public boolean equals(Object obj) {\n",
    "        if (this == obj) return true;\n",
    "        if (!(obj instanceof Money)) return false;\n",
    "\n",
    "        Money other = (Money) obj;\n",
    "        return amount == other.amount && Objects.equals(currencyCode, other.currencyCode);\n",
    "    }\n",
    "}\n",
    "\n",
    "Money income = new Money(55, \"USD\");\n",
    "Money expenses = new Money(55, \"USD\");\n",
    "\n",
    "Objects.equals(income, expenses);"
   ]
  },
  {
   "cell_type": "markdown",
   "id": "dc9beb97-4eb9-491e-834a-2c307aebe407",
   "metadata": {},
   "source": [
    " **If we override `equals()`, we must also override `hashCode()`.**"
   ]
  },
  {
   "cell_type": "markdown",
   "id": "807e36ea-76eb-42a1-9fe6-972b4077db0b",
   "metadata": {},
   "source": [
    "Project Lombok also provides an `@EqualsAndHashCode` annotation. Note again how `.equals()` and `.hashCode()` “go together” and even have a common annotation."
   ]
  },
  {
   "cell_type": "markdown",
   "id": "150e4209-7f7b-4544-a69b-bc623117447a",
   "metadata": {},
   "source": [
    "* Always override hashCode() if we override equals()\n",
    "* Override equals() and hashCode() for value objects\n",
    "* [Be aware of the traps of extending classes that have overridden equals() and hashCode()](https://www.baeldung.com/java-equals-hashcode-contracts#3-violatingequals-symmetry-with-inheritance)\n",
    "* Consider using an IDE or a third-party library for generating the equals() and hashCode() methods\n",
    "* Consider using EqualsVerifier to test our implementation"
   ]
  },
  {
   "cell_type": "markdown",
   "id": "7554a8d6-82de-430b-be9f-593b45b41733",
   "metadata": {},
   "source": [
    "## Functional Interfaces"
   ]
  },
  {
   "cell_type": "markdown",
   "id": "e45d7e28-ef85-493b-b84d-5ed45c2a0ccc",
   "metadata": {},
   "source": [
    "* It’s recommended that all functional interfaces have an informative `@FunctionalInterface` annotation. This clearly communicates the purpose of the interface, and also allows a compiler to generate an error if the annotated interface does not satisfy the conditions.\n",
    "* Any interface with a SAM(Single Abstract Method) is a functional interface. However, it can contain one or more default or static methods.\n",
    "* Các Functional Interface được định nghĩa sẵn trong Java:\n",
    "\n",
    "    * Java 8 cung cấp một loạt các Functional Interface được định nghĩa sẵn trong package java.util.function để phục vụ cho nhiều mục đích khác nhau. Một số ví dụ phổ biến bao gồm:\n",
    "\n",
    "    * Function<T, R>: Đại diện cho một hàm chấp nhận một đối số kiểu T và trả về một kết quả kiểu R. (Ví dụ: String::length)\n",
    "    * Consumer<T>: Đại diện cho một thao tác chấp nhận một đối số kiểu T và không trả về kết quả (void). (Ví dụ: System.out::println)\n",
    "    * Supplier<T>: Đại diện cho một thao tác không chấp nhận bất kỳ đối số nào và trả về một kết quả kiểu T. (Ví dụ: LocalDateTime::now)\n",
    "    * Predicate<T>: Đại diện cho một hàm chấp nhận một đối số kiểu T và trả về một giá trị boolean. (Ví dụ: s -> s.startsWith(\"A\"))\n",
    "    * BiFunction<T, U, R>: Đại diện cho một hàm chấp nhận hai đối số kiểu T và U và trả về một kết quả kiểu R. (Ví dụ: String::concat)\n",
    "    * BiConsumer<T, U>: Đại diện cho một thao tác chấp nhận hai đối số kiểu T và U và không trả về kết quả (void).\n",
    "    * BinaryOperator<T>: Đại diện cho một thao tác trên hai toán hạng cùng kiểu T và trả về một kết quả cùng kiểu T. (Ví dụ: Integer::sum)\n",
    "    * UnaryOperator<T>: Đại diện cho một thao tác trên một toán hạng kiểu T và trả về một kết quả cùng kiểu T. (Ví dụ: String::toUpperCase)\n",
    "    * Ngoài ra, còn có các biến thể nguyên thủy của các interface trên (ví dụ: IntFunction, LongConsumer, DoubleSupplier, ToIntFunction, v.v.) để tránh việc autoboxing/unboxing khi làm việc với các kiểu dữ liệu nguyên thủy.\n",
    "\n"
   ]
  },
  {
   "cell_type": "code",
   "execution_count": 117,
   "id": "a865d5d4-9668-4e76-8628-e180a4ac93d3",
   "metadata": {},
   "outputs": [
    {
     "name": "stdout",
     "output_type": "stream",
     "text": [
      "La là lá la la!\n",
      "Do something!\n"
     ]
    },
    {
     "data": {
      "text/plain": [
       "Hello Ye Wen Zi!"
      ]
     },
     "execution_count": 117,
     "metadata": {},
     "output_type": "execute_result"
    }
   ],
   "source": [
    "// @FunctionalInterface\n",
    "public interface FunctionalInterface {\n",
    "    String greeting(String name);\n",
    "\n",
    "    default void doSomething() {\n",
    "        System.out.println(\"Do something!\");\n",
    "    }\n",
    "\n",
    "    static void sing() {\n",
    "        System.out.println(\"La là lá la la!\");\n",
    "    }\n",
    "}\n",
    "\n",
    "FunctionalInterface.sing();\n",
    "\n",
    "FunctionalInterface fnInter = name -> \"Hello \" + name +\"!\";\n",
    "\n",
    "fnInter.doSomething();\n",
    "fnInter.greeting(\"Ye Wen Zi\");"
   ]
  },
  {
   "cell_type": "code",
   "execution_count": 104,
   "id": "196210a2-b272-485d-add2-7debca82f2a8",
   "metadata": {},
   "outputs": [
    {
     "data": {
      "text/plain": [
       "Hello Ye Wen Zi!"
      ]
     },
     "execution_count": 104,
     "metadata": {},
     "output_type": "execute_result"
    }
   ],
   "source": [
    "import java.util.function.Function;\n",
    "\n",
    "Function<String, String> greeting = name -> \"Hello \" + name + \"!\";\n",
    "greeting.apply(\"Ye Wen Zi\");"
   ]
  },
  {
   "cell_type": "code",
   "execution_count": 105,
   "id": "ae4228cb-8395-4f2a-8625-1bfcb7573f9a",
   "metadata": {},
   "outputs": [
    {
     "name": "stdout",
     "output_type": "stream",
     "text": [
      "Hello Ye Wen Zi!"
     ]
    }
   ],
   "source": [
    "import java.util.function.Consumer;\n",
    "\n",
    "Consumer<String> greeting = (name) -> System.out.print(\"Hello \" + name + \"!\");\n",
    "greeting.accept(\"Ye Wen Zi\");"
   ]
  },
  {
   "cell_type": "code",
   "execution_count": 107,
   "id": "a6b74b53-04e4-40ed-9cb8-913160643375",
   "metadata": {},
   "outputs": [
    {
     "data": {
      "text/plain": [
       "Helo Ye Wen Zi!"
      ]
     },
     "execution_count": 107,
     "metadata": {},
     "output_type": "execute_result"
    }
   ],
   "source": [
    "import java.util.function.Supplier;\n",
    "\n",
    "Supplier<String> greeting = () -> \"Helo Ye Wen Zi!\";\n",
    "greeting.get()"
   ]
  },
  {
   "cell_type": "code",
   "execution_count": 111,
   "id": "57e7beab-4b9c-4b62-a05a-7ec49ec06234",
   "metadata": {},
   "outputs": [
    {
     "name": "stdout",
     "output_type": "stream",
     "text": [
      "Hello Ye Wen Zi!"
     ]
    }
   ],
   "source": [
    "import java.lang.Runnable;\n",
    "\n",
    "Runnable greeting = () -> System.out.print(\"Hello Ye Wen Zi!\");\n",
    "greeting.run();"
   ]
  },
  {
   "cell_type": "markdown",
   "id": "dbc1cadf-e424-4605-b38f-6d5140caa691",
   "metadata": {},
   "source": [
    "## Instanceof operator"
   ]
  },
  {
   "cell_type": "markdown",
   "id": "acce5d9f-adaf-46c5-92d3-7e08f07f3db8",
   "metadata": {},
   "source": [
    "* The instanceof operator can’t be used if there’s no relationship between the object that’s being compared and the type it’s being compared with.\n",
    "* If we use the instanceof operator on any object that’s null, it returns false. We also don’t need a null check when using an instanceof operator.\n",
    "* [instanceof and Generics](https://www.baeldung.com/java-instanceof#generics)"
   ]
  },
  {
   "cell_type": "markdown",
   "id": "c56c44d6-e78f-4811-a781-1aeeafff17c2",
   "metadata": {},
   "source": [
    "```java\n",
    "// Stream API – Filtering Types Using instanceof Before Casting\n",
    "Stream<Round> roundStream = Stream.of(new Ring(), new Ring(), new Circle());\n",
    "List<Ring> ringList = roundStream.filter(it -> it instanceof Ring).map(it -> (Ring) it).collect(Collectors.toList());\n",
    "```"
   ]
  },
  {
   "cell_type": "markdown",
   "id": "0231add2-c3e0-45ad-aa23-b6a4dc8dfd50",
   "metadata": {},
   "source": [
    "## Deep copy"
   ]
  },
  {
   "cell_type": "markdown",
   "id": "1f1afb8c-214f-41df-9eb6-3a5cbb017c0a",
   "metadata": {},
   "source": [
    "[How to Make a Deep Copy of an Object in Java](https://www.baeldung.com/java-deep-copy)"
   ]
  },
  {
   "cell_type": "markdown",
   "id": "a52995a9-3155-4a04-a3da-71a0952a2d41",
   "metadata": {},
   "source": [
    "## Casting"
   ]
  },
  {
   "cell_type": "markdown",
   "id": "d5b8bdee-20b4-487d-a378-9987045f8964",
   "metadata": {},
   "source": [
    "* It’s common to use `cast()` and `isInstance()` methods with generic types."
   ]
  },
  {
   "cell_type": "markdown",
   "id": "eb18c8ef-9be0-43bc-9820-b0ca75ccda32",
   "metadata": {},
   "source": [
    "```java\n",
    "public class AnimalFeederGeneric<T> {\n",
    "    private Class<T> type;\n",
    "\n",
    "    public AnimalFeederGeneric(Class<T> type) {\n",
    "        this.type = type;\n",
    "    }\n",
    "\n",
    "    public List<T> feed(List<Animal> animals) {\n",
    "        List<T> list = new ArrayList<T>();\n",
    "        animals.forEach(animal -> {\n",
    "            if (type.isInstance(animal)) {\n",
    "                T objAsType = type.cast(animal);\n",
    "                list.add(objAsType);\n",
    "            }\n",
    "        });\n",
    "        return list;\n",
    "    }\n",
    "\n",
    "}\n",
    "```"
   ]
  },
  {
   "cell_type": "code",
   "execution_count": null,
   "id": "ef71f9e3-ad6b-4e8d-8740-87e8474fa0cc",
   "metadata": {},
   "outputs": [],
   "source": []
  }
 ],
 "metadata": {
  "kernelspec": {
   "display_name": "Java",
   "language": "java",
   "name": "java"
  },
  "language_info": {
   "codemirror_mode": "java",
   "file_extension": ".jshell",
   "mimetype": "text/x-java-source",
   "name": "Java",
   "pygments_lexer": "java",
   "version": "17.0.7+8-LTS-224"
  }
 },
 "nbformat": 4,
 "nbformat_minor": 5
}
